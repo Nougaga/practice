{
 "cells": [
  {
   "cell_type": "markdown",
   "metadata": {},
   "source": [
    "# 목표: 얼굴인식(face recognition)\n",
    "- 얼굴 인식의 방법 - 라이브러리 사용(opencv)\n",
    "- 웹캠을 동작시켜 얼굴을 인식할 수 있는가?\n",
    "- 얼굴 부분을 추출하여 머신러닝의 재료로 활용할 수 있는 데이터 생성\n",
    "\n",
    "pip install opencv-python"
   ]
  },
  {
   "cell_type": "code",
   "execution_count": 2,
   "metadata": {},
   "outputs": [],
   "source": [
    "import cv2"
   ]
  },
  {
   "cell_type": "markdown",
   "metadata": {},
   "source": [
    "## 1. 이미지 내 얼굴 인식\n",
    "- opencv 라이브러리 활용\n",
    "- 특정 객체의 특징을 잡아내는 미리 훈련된 haar cascade를 활용해 얼굴을 인식하고 추출\n",
    "\n",
    "haar cascade files: C:\\ProgramData\\Anaconda3\\Lib\\site-packages\\cv2\\data"
   ]
  },
  {
   "cell_type": "code",
   "execution_count": 3,
   "metadata": {},
   "outputs": [
    {
     "name": "stdout",
     "output_type": "stream",
     "text": [
      "C:\\Users\\admin\\Desktop\\GitHub\\study\\200902~ 데이터 분석(python)\n",
      "C:\\ProgramData\\Anaconda3\\python37.zip\n",
      "C:\\ProgramData\\Anaconda3\\DLLs\n",
      "C:\\ProgramData\\Anaconda3\\lib\n",
      "C:\\ProgramData\\Anaconda3\n",
      "\n",
      "C:\\Users\\admin\\AppData\\Roaming\\Python\\Python37\\site-packages\n",
      "C:\\ProgramData\\Anaconda3\\lib\\site-packages\n",
      "C:\\ProgramData\\Anaconda3\\lib\\site-packages\\win32\n",
      "C:\\ProgramData\\Anaconda3\\lib\\site-packages\\win32\\lib\n",
      "C:\\ProgramData\\Anaconda3\\lib\\site-packages\\Pythonwin\n",
      "C:\\ProgramData\\Anaconda3\\lib\\site-packages\\IPython\\extensions\n",
      "C:\\Users\\admin\\.ipython\n"
     ]
    }
   ],
   "source": [
    "import sys\n",
    "print('\\n'.join(sys.path))"
   ]
  },
  {
   "cell_type": "code",
   "execution_count": null,
   "metadata": {},
   "outputs": [],
   "source": [
    "detectMultiScale"
   ]
  },
  {
   "cell_type": "markdown",
   "metadata": {},
   "source": [
    "### 1-1. 얼굴과 눈\n",
    "#### 얼굴"
   ]
  },
  {
   "cell_type": "code",
   "execution_count": 4,
   "metadata": {},
   "outputs": [
    {
     "name": "stdout",
     "output_type": "stream",
     "text": [
      "[[169  21  74  74]\n",
      " [ 59  14  77  77]\n",
      " [161  70  85  85]]\n"
     ]
    }
   ],
   "source": [
    "image_file = \"./image/KakaoTalk_20201012_092008361.jpg\"\n",
    "\n",
    "# cascade file 경로(미리 학습시켜놓은 얼굴의 특징)\n",
    "cascade_file = \"./image/haarcascade_frontalface_default.xml\"\n",
    "\n",
    "# 이미지 파일 읽어오기\n",
    "image = cv2.imread(image_file)\n",
    "\n",
    "# 이미지 파일 그레이스케일 변경\n",
    "image_gs = cv2.cvtColor(image, cv2.COLOR_BGR2GRAY)\n",
    "\n",
    "# cascade classifier: 얼굴 인식 객체 생성\n",
    "cascade = cv2.CascadeClassifier(cascade_file)\n",
    "\n",
    "# 얼굴 특징 인식 및 추출\n",
    "face_list = cascade.detectMultiScale(image_gs,\n",
    "                                    scaleFactor=1.1, minNeighbors=1, minSize=(50,50))\n",
    "\n",
    "if len(face_list) > 0:\n",
    "    print(face_list)\n",
    "    color=(0,0,255)\n",
    "    for face in face_list:\n",
    "        x,y,w,h = face\n",
    "        cv2.rectangle(image, (x,y), (x+w,y+h), color, thickness=8)\n",
    "        cv2.imwrite(\"./image/facedetect-output.png\", image)\n",
    "else:\n",
    "    print(\"no face\")"
   ]
  },
  {
   "cell_type": "markdown",
   "metadata": {},
   "source": [
    "#### 눈"
   ]
  },
  {
   "cell_type": "code",
   "execution_count": 23,
   "metadata": {},
   "outputs": [
    {
     "name": "stdout",
     "output_type": "stream",
     "text": [
      "[[ 86   1  21  21]\n",
      " [208  36  22  22]\n",
      " [182  40  21  21]\n",
      " [184   8  23  23]]\n"
     ]
    }
   ],
   "source": [
    "image_file2 = \"./image/KakaoTalk_20201012_092008361.jpg\"\n",
    "\n",
    "# cascade file 경로(미리 학습시켜놓은 눈의 특징)\n",
    "cascade_file2 = \"./image/haarcascade_eye.xml\"\n",
    "\n",
    "# 이미지 파일 읽어오기\n",
    "image2 = cv2.imread(image_file2)\n",
    "\n",
    "# 이미지 파일 그레이스케일 변경\n",
    "image_gs2 = cv2.cvtColor(image2, cv2.COLOR_BGR2GRAY)\n",
    "\n",
    "# cascade classifier: 눈 인식 객체 생성\n",
    "cascade2 = cv2.CascadeClassifier(cascade_file2)\n",
    "\n",
    "# 눈 특징 인식 및 추출\n",
    "eyes_list = cascade2.detectMultiScale(image_gs2,\n",
    "                                    scaleFactor=1.1, minNeighbors=1, minSize=(10,10))\n",
    "\n",
    "if len(eyes_list) > 0:\n",
    "    print(eyes_list)\n",
    "    color=(0,0,255)\n",
    "    for eyes in eyes_list:\n",
    "        x,y,w,h = eyes\n",
    "        cv2.rectangle(image2, (x,y), (x+w,y+h), color, thickness=2)\n",
    "        cv2.imwrite(\"./image/eyesdetect-output.png\", image2)\n",
    "else:\n",
    "    print(\"no eyes\")"
   ]
  },
  {
   "cell_type": "markdown",
   "metadata": {},
   "source": [
    "### 1-2. 얼굴과 눈"
   ]
  },
  {
   "cell_type": "code",
   "execution_count": 24,
   "metadata": {},
   "outputs": [
    {
     "data": {
      "text/plain": [
       "True"
      ]
     },
     "execution_count": 24,
     "metadata": {},
     "output_type": "execute_result"
    }
   ],
   "source": [
    "image_file = \"./image/KakaoTalk_20201012_092008361.jpg\"\n",
    "\n",
    "cascade_file1 = \"./image/haarcascade_frontalface_default.xml\"\n",
    "cascade_file2 = \"./image/haarcascade_eye.xml\"\n",
    "\n",
    "image = cv2.imread(image_file)\n",
    "\n",
    "image_gs = cv2.cvtColor(image, cv2.COLOR_BGR2GRAY)\n",
    "\n",
    "face_cascade = cv2.CascadeClassifier(cascade_file1)\n",
    "eye_cascade = cv2.CascadeClassifier(cascade_file2)\n",
    "\n",
    "faces = face_cascade.detectMultiScale(image_gs,\n",
    "                                      scaleFactor=1.1, minNeighbors=1, minSize=(10,10))\n",
    "color1 = (0,0,255)\n",
    "color2 = (0,255,0)\n",
    "\n",
    "for (x,y,w,h) in faces:\n",
    "    cv2.rectangle(image, (x,y), (x+w,y+h), color1, thickness=8)\n",
    "    eyes = eye_cascade.detectMultiScale(image_gs,\n",
    "                                        scaleFactor=1.1, minNeighbors=1, minSize=(1,1))\n",
    "    for (ex,ey,ew,eh) in eyes:\n",
    "        cv2.rectangle(image, (ex,ey), (ex+ew,ey+eh), color2, thickness=2)\n",
    "\n",
    "cv2.imwrite(\"./image/faceandeyesdetect-output.png\", image)"
   ]
  },
  {
   "cell_type": "markdown",
   "metadata": {},
   "source": [
    "### 1-3. 여러 사람 인식"
   ]
  },
  {
   "cell_type": "markdown",
   "metadata": {},
   "source": [
    "### 인식이 잘 되지 않는다면\n",
    "\n",
    "tune strategy<br>\n",
    "https://machinelearningmastery.com/how-to-perform-face-detection-with-classical-and-deep-learning-methods-in-python-with-keras/"
   ]
  },
  {
   "cell_type": "code",
   "execution_count": null,
   "metadata": {},
   "outputs": [],
   "source": [
    "image_file = \"./image/KakaoTalk_20201012_092008361.jpg\"\n",
    "\n",
    "cascade_file = \"./image/haarcascade_frontalface_default.xml\"\n",
    "\n",
    "image = cv2.imread(image_file)\n",
    "\n",
    "image_gs = cv2.cvtColor(image, cv2.COLOR_BGR2GRAY)\n",
    "\n",
    "cascade = cv2.CascadeClassifier(cascade_file)\n",
    "\n",
    "# scaleFactor 늘림\n",
    "face_list = cascade.detectMultiScale(image_gs,\n",
    "                                    scaleFactor=1.2, minNeighbors=1, minSize=(50,50))\n",
    "\n",
    "if len(face_list) > 0:\n",
    "    print(face_list)\n",
    "    color=(0,0,255)\n",
    "    for face in face_list:\n",
    "        x,y,w,h = face\n",
    "        cv2.rectangle(image, (x,y), (x+w,y+h), color, thickness=8)\n",
    "        cv2.imwrite(\"./image/facedetect-output2.png\", image)\n",
    "else:\n",
    "    print(\"no face\")"
   ]
  },
  {
   "cell_type": "code",
   "execution_count": 30,
   "metadata": {},
   "outputs": [
    {
     "data": {
      "text/plain": [
       "True"
      ]
     },
     "execution_count": 30,
     "metadata": {},
     "output_type": "execute_result"
    }
   ],
   "source": [
    "image_file = \"./image/KakaoTalk_20201012_092008361.jpg\"\n",
    "\n",
    "cascade_file1 = \"./image/haarcascade_frontalface_default.xml\"\n",
    "cascade_file2 = \"./image/haarcascade_eye.xml\"\n",
    "\n",
    "image = cv2.imread(image_file)\n",
    "\n",
    "image_gs = cv2.cvtColor(image, cv2.COLOR_BGR2GRAY)\n",
    "\n",
    "face_cascade = cv2.CascadeClassifier(cascade_file1)\n",
    "eye_cascade = cv2.CascadeClassifier(cascade_file2)\n",
    "\n",
    "# scaleFactor 늘림\n",
    "faces = face_cascade.detectMultiScale(image_gs,\n",
    "                                      scaleFactor=1.2, minNeighbors=1, minSize=(10,10))\n",
    "color1 = (0,0,255)\n",
    "color2 = (0,255,0)\n",
    "\n",
    "for (x,y,w,h) in faces:\n",
    "    cv2.rectangle(image, (x,y), (x+w,y+h), color1, thickness=3)\n",
    "    # scaleFactor, minNeighbors 늘림\n",
    "    eyes = eye_cascade.detectMultiScale(image_gs,\n",
    "                                        scaleFactor=1.2, minNeighbors=2, minSize=(1,1))\n",
    "    for (ex,ey,ew,eh) in eyes:\n",
    "        cv2.rectangle(image, (ex,ey), (ex+ew,ey+eh), color2, thickness=2)\n",
    "\n",
    "cv2.imwrite(\"./image/faceandeyesdetect-output2.png\", image)"
   ]
  },
  {
   "cell_type": "markdown",
   "metadata": {},
   "source": []
  },
  {
   "cell_type": "markdown",
   "metadata": {},
   "source": [
    "### face recognition using web camera and capturing image"
   ]
  },
  {
   "cell_type": "code",
   "execution_count": 7,
   "metadata": {},
   "outputs": [
    {
     "name": "stdout",
     "output_type": "stream",
     "text": [
      "SPACE pressed and keyboard value is 32\n",
      "./captured_image/opencv_frame_0.png written!\n",
      "SPACE pressed and keyboard value is 32\n",
      "./captured_image/opencv_frame_1.png written!\n",
      "SPACE pressed and keyboard value is 32\n",
      "./captured_image/opencv_frame_2.png written!\n"
     ]
    }
   ],
   "source": [
    "#cascPath = sys.argv[1]\n",
    "cascPath = \"./image/haarcascade_frontalface_default.xml\"\n",
    "\n",
    "faceCascade = cv2.CascadeClassifier(cascPath)\n",
    "\n",
    "img_counter = 0\n",
    "video_capture = cv2.VideoCapture(0)\n",
    "while True:\n",
    "    # Capture frame-by-frame\n",
    "    ret, frame = video_capture.read()\n",
    "    \n",
    "    gray = cv2.cvtColor(frame, cv2.COLOR_BGR2GRAY)\n",
    "    \n",
    "    faces = faceCascade.detectMultiScale(gray,\n",
    "                                         scaleFactor=1.1, minNeighbors=5, minSize=(30, 30)\n",
    "                                         #flags=cascade_file\n",
    "                                        )\n",
    "    # Draw a rectangle around the faces\n",
    "    for (x, y, w, h) in faces:\n",
    "        cv2.rectangle(frame, (x, y), (x+w, y+h), (0, 255, 0), 2)\n",
    "\n",
    "    # Display the resulting frame\n",
    "    cv2.imshow('Image Capturing', frame)\n",
    "\n",
    "    k = cv2.waitKey(1)\n",
    "    \n",
    "    # [Q] 키로 종료\n",
    "    if k == ord('q') or k == ord('Q'): \n",
    "        break\n",
    "        \n",
    "    # [SPACE] 키로 캡처\n",
    "    elif k == 32: \n",
    "        print('SPACE pressed and keyboard value is {}'.format(k))\n",
    "        img_name = \"./captured_image/opencv_frame_{}.png\".format(img_counter)\n",
    "        cv2.imwrite(img_name, frame[y+2:y+h-2, x+2:x+w-2]) # 2 : padding\n",
    "        print(\"{} written!\".format(img_name))\n",
    "        img_counter += 1\n",
    "\n",
    "# When everything is done, release the capture\n",
    "video_capture.release()\n",
    "\n",
    "cv2.destroyAllWindows()"
   ]
  },
  {
   "cell_type": "markdown",
   "metadata": {},
   "source": [
    "#### 참고: keyboard values\n",
    "http://www.asciitable.com/"
   ]
  },
  {
   "cell_type": "code",
   "execution_count": null,
   "metadata": {},
   "outputs": [],
   "source": []
  }
 ],
 "metadata": {
  "kernelspec": {
   "display_name": "Python 3",
   "language": "python",
   "name": "python3"
  },
  "language_info": {
   "codemirror_mode": {
    "name": "ipython",
    "version": 3
   },
   "file_extension": ".py",
   "mimetype": "text/x-python",
   "name": "python",
   "nbconvert_exporter": "python",
   "pygments_lexer": "ipython3",
   "version": "3.7.4"
  }
 },
 "nbformat": 4,
 "nbformat_minor": 4
}
