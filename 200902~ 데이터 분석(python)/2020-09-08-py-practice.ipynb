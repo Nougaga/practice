{
 "cells": [
  {
   "cell_type": "markdown",
   "metadata": {},
   "source": [
    "## 1. Selenum"
   ]
  },
  {
   "cell_type": "code",
   "execution_count": 2,
   "metadata": {},
   "outputs": [],
   "source": [
    "from selenium import webdriver"
   ]
  },
  {
   "cell_type": "code",
   "execution_count": 3,
   "metadata": {},
   "outputs": [],
   "source": [
    "driver = webdriver.Chrome('chromedriver.exe')"
   ]
  },
  {
   "cell_type": "code",
   "execution_count": 5,
   "metadata": {},
   "outputs": [],
   "source": [
    "url_login_page = 'https://nid.naver.com/nidlogin.login?mode=form&url=https%3A%2F%2Fwww.naver.com'\n",
    "driver.get(url_login_page)"
   ]
  },
  {
   "cell_type": "code",
   "execution_count": 7,
   "metadata": {},
   "outputs": [],
   "source": [
    "USERID = \"zmni123\"\n",
    "USERPW = \"dkagh.02\""
   ]
  },
  {
   "cell_type": "code",
   "execution_count": 11,
   "metadata": {},
   "outputs": [],
   "source": [
    "e = driver.find_element_by_id('id')\n",
    "e.clear()\n",
    "e.send_keys(USERID)"
   ]
  },
  {
   "cell_type": "code",
   "execution_count": 12,
   "metadata": {},
   "outputs": [],
   "source": [
    "f = driver.find_element_by_id('pw')\n",
    "f.clear()\n",
    "f.send_keys(USERPW)"
   ]
  },
  {
   "cell_type": "code",
   "execution_count": 13,
   "metadata": {},
   "outputs": [],
   "source": [
    "ent = driver.find_element_by_id('log\\.login')\n",
    "ent.submit()"
   ]
  },
  {
   "cell_type": "code",
   "execution_count": 14,
   "metadata": {},
   "outputs": [],
   "source": [
    "import pyperclip\n",
    "import time\n",
    "from selenium.webdriver.common.keys import Keys"
   ]
  },
  {
   "cell_type": "code",
   "execution_count": 21,
   "metadata": {},
   "outputs": [],
   "source": [
    "driver = webdriver.Chrome('chromedriver.exe')\n",
    "driver.get(url_login_page)"
   ]
  },
  {
   "cell_type": "code",
   "execution_count": 20,
   "metadata": {},
   "outputs": [],
   "source": [
    "# 자동입력 대신 pyperclip을 이용한 복붙 방식\n",
    "\n",
    "e1 = driver.find_element_by_id('id')\n",
    "e1.clear()\n",
    "pyperclip.copy(USERID)\n",
    "e1.send_keys(Keys.CONTROL, 'v')\n",
    "time.sleep(2)\n",
    "\n",
    "f1 = driver.find_element_by_id('pw')\n",
    "f1.clear()\n",
    "pyperclip.copy(USERPW)\n",
    "f1.send_keys(Keys.CONTROL, 'v')\n",
    "time.sleep(2)\n",
    "\n",
    "ent1 = driver.find_element_by_id('log\\.login')\n",
    "ent1.submit()"
   ]
  },
  {
   "cell_type": "code",
   "execution_count": 22,
   "metadata": {},
   "outputs": [],
   "source": [
    "url_mymovie = 'https://serieson.naver.com/my/library/productList.nhn'"
   ]
  },
  {
   "cell_type": "code",
   "execution_count": 23,
   "metadata": {},
   "outputs": [],
   "source": [
    "driver.get(url_mymovie)"
   ]
  },
  {
   "cell_type": "code",
   "execution_count": 24,
   "metadata": {},
   "outputs": [],
   "source": [
    "movie_list = driver.find_element_by_class_name('list_tit')"
   ]
  },
  {
   "cell_type": "code",
   "execution_count": 25,
   "metadata": {},
   "outputs": [
    {
     "data": {
      "text/plain": [
       "selenium.webdriver.remote.webelement.WebElement"
      ]
     },
     "execution_count": 25,
     "metadata": {},
     "output_type": "execute_result"
    }
   ],
   "source": [
    "type(movie_list)"
   ]
  },
  {
   "cell_type": "code",
   "execution_count": 26,
   "metadata": {},
   "outputs": [
    {
     "data": {
      "text/plain": [
       "'HD(1080) 자막 너의 이름은.'"
      ]
     },
     "execution_count": 26,
     "metadata": {},
     "output_type": "execute_result"
    }
   ],
   "source": [
    "movie_list.text"
   ]
  },
  {
   "cell_type": "code",
   "execution_count": 27,
   "metadata": {},
   "outputs": [
    {
     "data": {
      "text/plain": [
       "[<selenium.webdriver.remote.webelement.WebElement (session=\"3d35a38e00aee2c6c05b677f6be219f7\", element=\"bd97704c-aec9-4873-9f95-d64aad800134\")>,\n",
       " <selenium.webdriver.remote.webelement.WebElement (session=\"3d35a38e00aee2c6c05b677f6be219f7\", element=\"89d27f93-de1e-4942-9efb-265b999e0b85\")>,\n",
       " <selenium.webdriver.remote.webelement.WebElement (session=\"3d35a38e00aee2c6c05b677f6be219f7\", element=\"882dab92-4491-4657-9c31-8e8d0dd2dc35\")>]"
      ]
     },
     "execution_count": 27,
     "metadata": {},
     "output_type": "execute_result"
    }
   ],
   "source": [
    "movies_list = driver.find_elements_by_class_name('list_tit')\n",
    "movies_list"
   ]
  },
  {
   "cell_type": "markdown",
   "metadata": {},
   "source": [
    "## 2. Selenum + BeautifulSoup\n",
    "\n",
    "- selenium만을 이용하여 동적 제어를 하게 되면 속도가 느린 단점이 있음\n",
    "- html을 파싱하여 해당 페이지 내의 필요 정보를 읽어 오는 것이 속도 우위"
   ]
  },
  {
   "cell_type": "code",
   "execution_count": 30,
   "metadata": {},
   "outputs": [],
   "source": [
    "from bs4 import BeautifulSoup"
   ]
  },
  {
   "cell_type": "code",
   "execution_count": 29,
   "metadata": {},
   "outputs": [],
   "source": [
    "chrome_loc = 'chromedriver.exe'\n",
    "driver1 = webdriver.Chrome(chrome_loc)\n",
    "url_target = 'https://www.melon.com/chart/index.htm'\n",
    "driver1.get(url_target)"
   ]
  },
  {
   "cell_type": "code",
   "execution_count": 31,
   "metadata": {},
   "outputs": [],
   "source": [
    "melon_html = driver1.page_source"
   ]
  },
  {
   "cell_type": "code",
   "execution_count": 58,
   "metadata": {},
   "outputs": [],
   "source": [
    "soup = BeautifulSoup(melon_html, 'html.parser')"
   ]
  },
  {
   "cell_type": "code",
   "execution_count": 59,
   "metadata": {},
   "outputs": [],
   "source": [
    "tbody = soup.find('tbody')"
   ]
  },
  {
   "cell_type": "code",
   "execution_count": 113,
   "metadata": {},
   "outputs": [],
   "source": [
    "rank01 = tbody.find_all('div', class_='ellipsis rank01')\n",
    "rank02 = tbody.find_all('div', class_='ellipsis rank02')"
   ]
  },
  {
   "cell_type": "code",
   "execution_count": 128,
   "metadata": {},
   "outputs": [],
   "source": [
    "song = [rank01[i].find('a').string for i in range(len(rank01))]"
   ]
  },
  {
   "cell_type": "code",
   "execution_count": 152,
   "metadata": {
    "scrolled": true
   },
   "outputs": [],
   "source": [
    "artist = list()\n",
    "for i in range(len(rank02)):\n",
    "    temp = rank02[i].find_all('a')\n",
    "    artist.append(\"\")\n",
    "    for j in range(len(temp)//2):\n",
    "        if j > 0:\n",
    "            artist[i] += \", \"\n",
    "        artist[i] += temp[j].string"
   ]
  },
  {
   "cell_type": "code",
   "execution_count": 181,
   "metadata": {},
   "outputs": [
    {
     "data": {
      "text/html": [
       "<div>\n",
       "<style scoped>\n",
       "    .dataframe tbody tr th:only-of-type {\n",
       "        vertical-align: middle;\n",
       "    }\n",
       "\n",
       "    .dataframe tbody tr th {\n",
       "        vertical-align: top;\n",
       "    }\n",
       "\n",
       "    .dataframe thead th {\n",
       "        text-align: right;\n",
       "    }\n",
       "</style>\n",
       "<table border=\"1\" class=\"dataframe\">\n",
       "  <thead>\n",
       "    <tr style=\"text-align: right;\">\n",
       "      <th></th>\n",
       "      <th>artist</th>\n",
       "      <th>song</th>\n",
       "    </tr>\n",
       "  </thead>\n",
       "  <tbody>\n",
       "    <tr>\n",
       "      <th>1</th>\n",
       "      <td>방탄소년단</td>\n",
       "      <td>Dynamite</td>\n",
       "    </tr>\n",
       "    <tr>\n",
       "      <th>2</th>\n",
       "      <td>산들</td>\n",
       "      <td>취기를 빌려 (취향저격 그녀 X 산들)</td>\n",
       "    </tr>\n",
       "    <tr>\n",
       "      <th>3</th>\n",
       "      <td>싹쓰리 (유두래곤, 린다G, 비룡)</td>\n",
       "      <td>다시 여기 바닷가</td>\n",
       "    </tr>\n",
       "    <tr>\n",
       "      <th>4</th>\n",
       "      <td>제시 (Jessi)</td>\n",
       "      <td>눈누난나 (NUNU NANA)</td>\n",
       "    </tr>\n",
       "    <tr>\n",
       "      <th>5</th>\n",
       "      <td>화사 (Hwa Sa)</td>\n",
       "      <td>마리아 (Maria)</td>\n",
       "    </tr>\n",
       "    <tr>\n",
       "      <th>...</th>\n",
       "      <td>...</td>\n",
       "      <td>...</td>\n",
       "    </tr>\n",
       "    <tr>\n",
       "      <th>96</th>\n",
       "      <td>IZ*ONE (아이즈원)</td>\n",
       "      <td>환상동화 (Secret Story of the Swan)</td>\n",
       "    </tr>\n",
       "    <tr>\n",
       "      <th>97</th>\n",
       "      <td>허각</td>\n",
       "      <td>듣고 싶던 말</td>\n",
       "    </tr>\n",
       "    <tr>\n",
       "      <th>98</th>\n",
       "      <td>어반자카파</td>\n",
       "      <td>그대 고운 내사랑</td>\n",
       "    </tr>\n",
       "    <tr>\n",
       "      <th>99</th>\n",
       "      <td>마크툽 (MAKTUB), 이라온</td>\n",
       "      <td>별을 담은 시 (Ode To The Stars)</td>\n",
       "    </tr>\n",
       "    <tr>\n",
       "      <th>100</th>\n",
       "      <td>식케이 (Sik-K), pH-1, 박재범, 김하온 (HAON)</td>\n",
       "      <td>깡 Official Remix</td>\n",
       "    </tr>\n",
       "  </tbody>\n",
       "</table>\n",
       "<p>100 rows × 2 columns</p>\n",
       "</div>"
      ],
      "text/plain": [
       "                                 artist                             song\n",
       "1                                 방탄소년단                         Dynamite\n",
       "2                                    산들            취기를 빌려 (취향저격 그녀 X 산들)\n",
       "3                   싹쓰리 (유두래곤, 린다G, 비룡)                        다시 여기 바닷가\n",
       "4                            제시 (Jessi)                 눈누난나 (NUNU NANA)\n",
       "5                           화사 (Hwa Sa)                      마리아 (Maria)\n",
       "..                                  ...                              ...\n",
       "96                        IZ*ONE (아이즈원)  환상동화 (Secret Story of the Swan)\n",
       "97                                   허각                          듣고 싶던 말\n",
       "98                                어반자카파                        그대 고운 내사랑\n",
       "99                    마크툽 (MAKTUB), 이라온       별을 담은 시 (Ode To The Stars)\n",
       "100  식케이 (Sik-K), pH-1, 박재범, 김하온 (HAON)                 깡 Official Remix\n",
       "\n",
       "[100 rows x 2 columns]"
      ]
     },
     "execution_count": 181,
     "metadata": {},
     "output_type": "execute_result"
    }
   ],
   "source": [
    "import pandas as pd\n",
    "\n",
    "top100 = pd.DataFrame({'artist':artist, 'song':song})\n",
    "top100.index = list(range(1,101))\n",
    "top100"
   ]
  },
  {
   "cell_type": "markdown",
   "metadata": {},
   "source": [
    "## 3. Urllib"
   ]
  },
  {
   "cell_type": "code",
   "execution_count": 39,
   "metadata": {},
   "outputs": [],
   "source": [
    "import urllib.request as req"
   ]
  },
  {
   "cell_type": "code",
   "execution_count": 40,
   "metadata": {},
   "outputs": [],
   "source": [
    "header = {'User-Agent':'Mozilla/5.0'}"
   ]
  },
  {
   "cell_type": "code",
   "execution_count": 43,
   "metadata": {},
   "outputs": [],
   "source": [
    "res = req.Request(url_target, headers = header)"
   ]
  },
  {
   "cell_type": "code",
   "execution_count": 44,
   "metadata": {},
   "outputs": [],
   "source": [
    "melon_home = req.urlopen(res).read()"
   ]
  },
  {
   "cell_type": "code",
   "execution_count": null,
   "metadata": {
    "scrolled": true
   },
   "outputs": [],
   "source": [
    "html_melon = BeautifulSoup(melon_home, 'html.parser')\n",
    "html_melon"
   ]
  },
  {
   "cell_type": "code",
   "execution_count": 168,
   "metadata": {},
   "outputs": [
    {
     "data": {
      "text/plain": [
       "array([0.51531931])"
      ]
     },
     "execution_count": 168,
     "metadata": {},
     "output_type": "execute_result"
    }
   ],
   "source": []
  },
  {
   "cell_type": "code",
   "execution_count": 161,
   "metadata": {},
   "outputs": [],
   "source": [
    "import numpy as np"
   ]
  },
  {
   "cell_type": "code",
   "execution_count": 202,
   "metadata": {},
   "outputs": [
    {
     "name": "stdout",
     "output_type": "stream",
     "text": [
      "총 9행 랜덤추출\n"
     ]
    },
    {
     "data": {
      "text/html": [
       "<div>\n",
       "<style scoped>\n",
       "    .dataframe tbody tr th:only-of-type {\n",
       "        vertical-align: middle;\n",
       "    }\n",
       "\n",
       "    .dataframe tbody tr th {\n",
       "        vertical-align: top;\n",
       "    }\n",
       "\n",
       "    .dataframe thead th {\n",
       "        text-align: right;\n",
       "    }\n",
       "</style>\n",
       "<table border=\"1\" class=\"dataframe\">\n",
       "  <thead>\n",
       "    <tr style=\"text-align: right;\">\n",
       "      <th></th>\n",
       "      <th>artist</th>\n",
       "      <th>song</th>\n",
       "    </tr>\n",
       "  </thead>\n",
       "  <tbody>\n",
       "    <tr>\n",
       "      <th>86</th>\n",
       "      <td>볼빨간사춘기</td>\n",
       "      <td>아틀란티스 소녀 (Atlantis Princess)</td>\n",
       "    </tr>\n",
       "    <tr>\n",
       "      <th>10</th>\n",
       "      <td>오마이걸 (OH MY GIRL)</td>\n",
       "      <td>Dolphin</td>\n",
       "    </tr>\n",
       "    <tr>\n",
       "      <th>33</th>\n",
       "      <td>Dua Lipa</td>\n",
       "      <td>Don't Start Now</td>\n",
       "    </tr>\n",
       "    <tr>\n",
       "      <th>5</th>\n",
       "      <td>화사 (Hwa Sa)</td>\n",
       "      <td>마리아 (Maria)</td>\n",
       "    </tr>\n",
       "    <tr>\n",
       "      <th>61</th>\n",
       "      <td>규현 (KYUHYUN)</td>\n",
       "      <td>화려하지 않은 고백</td>\n",
       "    </tr>\n",
       "    <tr>\n",
       "      <th>95</th>\n",
       "      <td>방탄소년단</td>\n",
       "      <td>We are Bulletproof : the Eternal</td>\n",
       "    </tr>\n",
       "    <tr>\n",
       "      <th>83</th>\n",
       "      <td>폴킴</td>\n",
       "      <td>너를 만나</td>\n",
       "    </tr>\n",
       "    <tr>\n",
       "      <th>67</th>\n",
       "      <td>Billie Eilish</td>\n",
       "      <td>bad guy</td>\n",
       "    </tr>\n",
       "    <tr>\n",
       "      <th>2</th>\n",
       "      <td>산들</td>\n",
       "      <td>취기를 빌려 (취향저격 그녀 X 산들)</td>\n",
       "    </tr>\n",
       "  </tbody>\n",
       "</table>\n",
       "</div>"
      ],
      "text/plain": [
       "               artist                              song\n",
       "86             볼빨간사춘기      아틀란티스 소녀 (Atlantis Princess)\n",
       "10  오마이걸 (OH MY GIRL)                           Dolphin\n",
       "33           Dua Lipa                   Don't Start Now\n",
       "5         화사 (Hwa Sa)                       마리아 (Maria)\n",
       "61       규현 (KYUHYUN)                        화려하지 않은 고백\n",
       "95              방탄소년단  We are Bulletproof : the Eternal\n",
       "83                 폴킴                             너를 만나\n",
       "67      Billie Eilish                           bad guy\n",
       "2                  산들             취기를 빌려 (취향저격 그녀 X 산들)"
      ]
     },
     "execution_count": 202,
     "metadata": {},
     "output_type": "execute_result"
    }
   ],
   "source": [
    "n = np.random.choice(101,1)[0]\n",
    "print(\"총 {}행 랜덤추출\".format(n))\n",
    "top100.iloc[np.random.choice(100,n,replace=False)]"
   ]
  },
  {
   "cell_type": "code",
   "execution_count": 190,
   "metadata": {},
   "outputs": [
    {
     "data": {
      "text/plain": [
       "array([0, 8, 6, 4, 5, 9, 2, 7, 3, 1])"
      ]
     },
     "execution_count": 190,
     "metadata": {},
     "output_type": "execute_result"
    }
   ],
   "source": []
  },
  {
   "cell_type": "code",
   "execution_count": null,
   "metadata": {},
   "outputs": [],
   "source": []
  }
 ],
 "metadata": {
  "kernelspec": {
   "display_name": "Python 3",
   "language": "python",
   "name": "python3"
  },
  "language_info": {
   "codemirror_mode": {
    "name": "ipython",
    "version": 3
   },
   "file_extension": ".py",
   "mimetype": "text/x-python",
   "name": "python",
   "nbconvert_exporter": "python",
   "pygments_lexer": "ipython3",
   "version": "3.8.3"
  }
 },
 "nbformat": 4,
 "nbformat_minor": 4
}
