{
 "cells": [
  {
   "cell_type": "markdown",
   "metadata": {},
   "source": [
    "## Random Forest 보충\n",
    "\n",
    "### max_feature 조정\n",
    "\n",
    "- n_features로 설정하면 트리의 각 분기에서 모든 특성을 고려하므로 특성 선택의 무작위성이 사라지고 RF의 효율을 감소시키는 경향이 있다\n",
    "- max_features=1로 설정하면 특성을 고르지 않고 무작위로 선택한 특성의 임계값을 찾는다"
   ]
  },
  {
   "cell_type": "code",
   "execution_count": 1,
   "metadata": {},
   "outputs": [],
   "source": [
    "from sklearn.ensemble import RandomForestClassifier\n",
    "from sklearn import datasets\n",
    "from sklearn.model_selection import train_test_split\n",
    "import numpy as np\n",
    "import matplotlib.pyplot as plt\n",
    "from dtreeplt import dtreeplt"
   ]
  },
  {
   "cell_type": "code",
   "execution_count": 13,
   "metadata": {},
   "outputs": [],
   "source": [
    "cancer = datasets.load_breast_cancer()\n",
    "\n",
    "X=cancer.data\n",
    "y=cancer.target\n",
    "\n",
    "X_train, X_test, y_train, y_test = \\\n",
    "    train_test_split(X,y, test_size=0.2, random_state=10)"
   ]
  },
  {
   "cell_type": "code",
   "execution_count": 17,
   "metadata": {},
   "outputs": [
    {
     "name": "stdout",
     "output_type": "stream",
     "text": [
      "train accuracy 1.000\n",
      "test accuracy 0.974\n"
     ]
    }
   ],
   "source": [
    "# max_features = 1\n",
    "forest = RandomForestClassifier(n_estimators=15, random_state=15, max_features = 1)\n",
    "\n",
    "forest.fit(X_train, y_train)\n",
    "\n",
    "print('train accuracy {:.3f}'.format(forest.score(X_train, y_train)))\n",
    "print('test accuracy {:.3f}'.format(forest.score(X_test, y_test)))"
   ]
  },
  {
   "cell_type": "code",
   "execution_count": 19,
   "metadata": {},
   "outputs": [
    {
     "name": "stdout",
     "output_type": "stream",
     "text": [
      "train accuracy 1.000\n",
      "test accuracy 0.974\n"
     ]
    }
   ],
   "source": [
    "# max_features = 30\n",
    "forest = RandomForestClassifier(n_estimators=15, random_state=15, max_features = len(cancer.feature_names)) #30\n",
    "\n",
    "forest.fit(X_train, y_train)\n",
    "\n",
    "print('train accuracy {:.3f}'.format(forest.score(X_train, y_train)))\n",
    "print('test accuracy {:.3f}'.format(forest.score(X_test, y_test)))"
   ]
  },
  {
   "cell_type": "code",
   "execution_count": 20,
   "metadata": {},
   "outputs": [
    {
     "name": "stdout",
     "output_type": "stream",
     "text": [
      "train accuracy 0.998\n",
      "test accuracy 0.991\n"
     ]
    }
   ],
   "source": [
    "# max_features = 'auto' : default(sqrt(30))\n",
    "forest = RandomForestClassifier(n_estimators=15, random_state=15, max_features = 'auto')\n",
    "\n",
    "forest.fit(X_train, y_train)\n",
    "\n",
    "print('train accuracy {:.3f}'.format(forest.score(X_train, y_train)))\n",
    "print('test accuracy {:.3f}'.format(forest.score(X_test, y_test)))"
   ]
  },
  {
   "cell_type": "code",
   "execution_count": 22,
   "metadata": {},
   "outputs": [
    {
     "name": "stdout",
     "output_type": "stream",
     "text": [
      "train accuracy 0.989\n",
      "test accuracy 0.956\n"
     ]
    }
   ],
   "source": [
    "# max_depth = 5\n",
    "forest = RandomForestClassifier(n_estimators=15, random_state=15, max_features = 'auto', max_depth = 5)\n",
    "\n",
    "forest.fit(X_train, y_train)\n",
    "\n",
    "print('train accuracy {:.3f}'.format(forest.score(X_train, y_train)))\n",
    "print('test accuracy {:.3f}'.format(forest.score(X_test, y_test)))"
   ]
  },
  {
   "cell_type": "markdown",
   "metadata": {},
   "source": [
    "### min_samples_leaf 조정\n",
    "\n",
    "- default는 1 : leaf node가 1개가 될 때까지(끝까지) 진행"
   ]
  },
  {
   "cell_type": "code",
   "execution_count": 43,
   "metadata": {},
   "outputs": [
    {
     "name": "stdout",
     "output_type": "stream",
     "text": [
      "train accuracy 0.978\n",
      "test accuracy 0.947\n"
     ]
    }
   ],
   "source": [
    "# min_samples_leaf = 5\n",
    "forest = RandomForestClassifier(n_estimators=15, random_state=15, \n",
    "                                                  max_features = 'auto', max_depth = None,\n",
    "                                                  min_samples_leaf=5) # leaf가 5개가 되면 더 이상 진행 X\n",
    "\n",
    "forest.fit(X_train, y_train)\n",
    "\n",
    "print('train accuracy {:.3f}'.format(forest.score(X_train, y_train)))\n",
    "print('test accuracy {:.3f}'.format(forest.score(X_test, y_test)))"
   ]
  },
  {
   "cell_type": "markdown",
   "metadata": {},
   "source": [
    "---\n",
    "\n",
    "## 1. Linear Regression\n",
    "\n",
    "### 1.1 simple linear"
   ]
  },
  {
   "cell_type": "code",
   "execution_count": 48,
   "metadata": {},
   "outputs": [],
   "source": [
    "from sklearn.linear_model import LinearRegression\n",
    "from sklearn import datasets\n",
    "from sklearn.model_selection import train_test_split\n",
    "import matplotlib.pyplot as plt\n",
    "import numpy as np\n",
    "import pandas as pd"
   ]
  },
  {
   "cell_type": "code",
   "execution_count": 32,
   "metadata": {},
   "outputs": [],
   "source": [
    "# 1. diabetes dataset loading\n",
    "\n",
    "diab = datasets.load_diabetes()"
   ]
  },
  {
   "cell_type": "code",
   "execution_count": 33,
   "metadata": {
    "scrolled": true
   },
   "outputs": [
    {
     "name": "stdout",
     "output_type": "stream",
     "text": [
      ".. _diabetes_dataset:\n",
      "\n",
      "Diabetes dataset\n",
      "----------------\n",
      "\n",
      "Ten baseline variables, age, sex, body mass index, average blood\n",
      "pressure, and six blood serum measurements were obtained for each of n =\n",
      "442 diabetes patients, as well as the response of interest, a\n",
      "quantitative measure of disease progression one year after baseline.\n",
      "\n",
      "**Data Set Characteristics:**\n",
      "\n",
      "  :Number of Instances: 442\n",
      "\n",
      "  :Number of Attributes: First 10 columns are numeric predictive values\n",
      "\n",
      "  :Target: Column 11 is a quantitative measure of disease progression one year after baseline\n",
      "\n",
      "  :Attribute Information:\n",
      "      - age     age in years\n",
      "      - sex\n",
      "      - bmi     body mass index\n",
      "      - bp      average blood pressure\n",
      "      - s1      tc, T-Cells (a type of white blood cells)\n",
      "      - s2      ldl, low-density lipoproteins\n",
      "      - s3      hdl, high-density lipoproteins\n",
      "      - s4      tch, thyroid stimulating hormone\n",
      "      - s5      ltg, lamotrigine\n",
      "      - s6      glu, blood sugar level\n",
      "\n",
      "Note: Each of these 10 feature variables have been mean centered and scaled by the standard deviation times `n_samples` (i.e. the sum of squares of each column totals 1).\n",
      "\n",
      "Source URL:\n",
      "https://www4.stat.ncsu.edu/~boos/var.select/diabetes.html\n",
      "\n",
      "For more information see:\n",
      "Bradley Efron, Trevor Hastie, Iain Johnstone and Robert Tibshirani (2004) \"Least Angle Regression,\" Annals of Statistics (with discussion), 407-499.\n",
      "(https://web.stanford.edu/~hastie/Papers/LARS/LeastAngle_2002.pdf)\n"
     ]
    }
   ],
   "source": [
    "# 2. 데이터 확인\n",
    "\n",
    "print(diab.DESCR)"
   ]
  },
  {
   "cell_type": "code",
   "execution_count": 38,
   "metadata": {},
   "outputs": [
    {
     "data": {
      "text/plain": [
       "(442, 1)"
      ]
     },
     "execution_count": 38,
     "metadata": {},
     "output_type": "execute_result"
    }
   ],
   "source": [
    "# 3. feature 선택\n",
    "\n",
    "diab_X = diab.data[:,np.newaxis,3] #bp\n",
    "diab_X.shape"
   ]
  },
  {
   "cell_type": "code",
   "execution_count": 39,
   "metadata": {},
   "outputs": [
    {
     "data": {
      "text/plain": [
       "array([0.02187235])"
      ]
     },
     "execution_count": 39,
     "metadata": {},
     "output_type": "execute_result"
    }
   ],
   "source": [
    "diab_X[0] # 데이터 추출 확인"
   ]
  },
  {
   "cell_type": "code",
   "execution_count": 40,
   "metadata": {},
   "outputs": [],
   "source": [
    "# 4. split data\n",
    "\n",
    "diab_X_train = diab_X[:-20]\n",
    "diab_X_test = diab_X[-20:] # 뒤의 20행을 테스트용으로 자름\n",
    "\n",
    "diab_y_train = diab.target[:-20]\n",
    "diab_y_test = diab.target[-20:]"
   ]
  },
  {
   "cell_type": "code",
   "execution_count": 50,
   "metadata": {},
   "outputs": [
    {
     "data": {
      "text/plain": [
       "LinearRegression()"
      ]
     },
     "execution_count": 50,
     "metadata": {},
     "output_type": "execute_result"
    }
   ],
   "source": [
    "# 5. 모델 객체 생성 및 fitting\n",
    "\n",
    "lr = LinearRegression()\n",
    "lr.fit(diab_X_train, diab_y_train)"
   ]
  },
  {
   "cell_type": "code",
   "execution_count": 51,
   "metadata": {},
   "outputs": [],
   "source": [
    "# 6. prediction\n",
    "\n",
    "diab_pred = lr.predict(diab_X_test)"
   ]
  },
  {
   "cell_type": "code",
   "execution_count": 54,
   "metadata": {},
   "outputs": [
    {
     "name": "stdout",
     "output_type": "stream",
     "text": [
      "train set accuracy 0.192\n",
      "test set accuracy 0.160\n"
     ]
    }
   ],
   "source": [
    "# 7. 훈련 결과 확인\n",
    "\n",
    "print('train set accuracy {:.3f}'.format(lr.score(diab_X_train, diab_y_train)))\n",
    "print('test set accuracy {:.3f}'.format(lr.score(diab_X_test, diab_y_test)))"
   ]
  },
  {
   "cell_type": "code",
   "execution_count": 55,
   "metadata": {},
   "outputs": [
    {
     "data": {
      "image/png": "[encoded data removed]",
      "text/plain": [
       "<Figure size 432x288 with 1 Axes>"
      ]
     },
     "metadata": {
      "needs_background": "light"
     },
     "output_type": "display_data"
    }
   ],
   "source": [
    "# 8. 그래프\n",
    "\n",
    "plt.scatter(diab_X_test, diab_y_test, color='black')\n",
    "plt.plot(diab_X_test, diab_pred, color='blue', linewidth=3)\n",
    "plt.xticks()\n",
    "plt.yticks()\n",
    "plt.show()"
   ]
  },
  {
   "cell_type": "markdown",
   "metadata": {},
   "source": [
    "### 1.2 multiple linear"
   ]
  },
  {
   "cell_type": "code",
   "execution_count": 60,
   "metadata": {},
   "outputs": [],
   "source": [
    "# 1. 데이터 분할\n",
    "\n",
    "X = diab.data\n",
    "y = diab.target\n",
    "\n",
    "X_train, X_test, y_train, y_test = \\\n",
    "    train_test_split(X,y, test_size=0.1, random_state=0)"
   ]
  },
  {
   "cell_type": "code",
   "execution_count": 61,
   "metadata": {},
   "outputs": [
    {
     "data": {
      "text/plain": [
       "LinearRegression()"
      ]
     },
     "execution_count": 61,
     "metadata": {},
     "output_type": "execute_result"
    }
   ],
   "source": [
    "# 2. object for modeling\n",
    "\n",
    "lr = LinearRegression()\n",
    "lr.fit(X_train, y_train)"
   ]
  },
  {
   "cell_type": "code",
   "execution_count": 62,
   "metadata": {},
   "outputs": [
    {
     "name": "stdout",
     "output_type": "stream",
     "text": [
      "train set accuracy 0.530\n",
      "test set accuracy 0.357\n"
     ]
    }
   ],
   "source": [
    "# 3. 훈련 결과 확인\n",
    "\n",
    "print('train set accuracy {:.3f}'.format(lr.score(X_train, y_train)))\n",
    "print('test set accuracy {:.3f}'.format(lr.score(X_test, y_test)))"
   ]
  },
  {
   "cell_type": "code",
   "execution_count": 63,
   "metadata": {},
   "outputs": [],
   "source": [
    "# 4. 예측 결과\n",
    "\n",
    "diab_pred = lr.predict(X_test)"
   ]
  },
  {
   "cell_type": "markdown",
   "metadata": {},
   "source": [
    "### 1.3 Ridge\n",
    "\n",
    "- 일반 LinearRegression은 parameter가 없기 때문에 모델의 복잡도를 제어할 방법이 없음\n",
    "- 릿지 회귀에서의 가중치 선택은 train data에 대한 것 뿐만아니라 추가 제약조건을 만족시키는 방향으로 진행\n",
    "- 방법: 가중치의 절댓값을 가능한 작게 만듦 → 모든 feature의 가중치를 0에 가깝게 만들어서 기울기를 최대한 작게 만듦 → 규제\n",
    "- Regularization: 모델이 과대적합되지 않도록 강제로 제한 → L2 규제\n",
    "- parameter 조정: alpha(default:1)값을 높이면 계수를 보다 0에 가깝게 만듦 → 규제를 강하게 함"
   ]
  },
  {
   "cell_type": "code",
   "execution_count": 64,
   "metadata": {},
   "outputs": [],
   "source": [
    "from sklearn.linear_model import Ridge"
   ]
  },
  {
   "cell_type": "code",
   "execution_count": 66,
   "metadata": {},
   "outputs": [],
   "source": [
    "# 1. 데이터 분할\n",
    "\n",
    "X = diab.data\n",
    "y = diab.target\n",
    "\n",
    "X_train, X_test, y_train, y_test = \\\n",
    "    train_test_split(X,y, test_size=0.1, random_state=0)"
   ]
  },
  {
   "cell_type": "code",
   "execution_count": 70,
   "metadata": {},
   "outputs": [
    {
     "name": "stdout",
     "output_type": "stream",
     "text": [
      "train set accuracy 0.457\n",
      "test set accuracy 0.311\n"
     ]
    }
   ],
   "source": [
    "# 2. object for modeling\n",
    "\n",
    "rdg = Ridge()\n",
    "rdg.fit(X_train, y_train)\n",
    "\n",
    "\n",
    "# 3. 훈련 결과 확인\n",
    "\n",
    "print('train set accuracy {:.3f}'.format(rdg.score(X_train, y_train)))\n",
    "print('test set accuracy {:.3f}'.format(rdg.score(X_test, y_test)))"
   ]
  },
  {
   "cell_type": "code",
   "execution_count": 74,
   "metadata": {},
   "outputs": [
    {
     "name": "stdout",
     "output_type": "stream",
     "text": [
      "train set accuracy 0.526\n",
      "test set accuracy 0.349\n"
     ]
    }
   ],
   "source": [
    "# parameter tuning\n",
    "\n",
    "rdg0p1 = Ridge(alpha=0.1)\n",
    "rdg0p1.fit(X_train, y_train)\n",
    "\n",
    "print('train set accuracy {:.3f}'.format(rdg0p1.score(X_train, y_train)))\n",
    "print('test set accuracy {:.3f}'.format(rdg0p1.score(X_test, y_test)))"
   ]
  },
  {
   "cell_type": "code",
   "execution_count": 72,
   "metadata": {},
   "outputs": [
    {
     "name": "stdout",
     "output_type": "stream",
     "text": [
      "train set accuracy 0.529\n",
      "test set accuracy 0.350\n"
     ]
    }
   ],
   "source": [
    "rdg0p01 = Ridge(alpha=0.01)\n",
    "rdg0p01.fit(X_train, y_train)\n",
    "\n",
    "print('train set accuracy {:.3f}'.format(rdg0p01.score(X_train, y_train)))\n",
    "print('test set accuracy {:.3f}'.format(rdg0p01.score(X_test, y_test)))"
   ]
  },
  {
   "cell_type": "code",
   "execution_count": 73,
   "metadata": {},
   "outputs": [
    {
     "name": "stdout",
     "output_type": "stream",
     "text": [
      "train set accuracy 0.185\n",
      "test set accuracy 0.106\n"
     ]
    }
   ],
   "source": [
    "rdg10 = Ridge(alpha=10)\n",
    "rdg10.fit(X_train, y_train)\n",
    "\n",
    "print('train set accuracy {:.3f}'.format(rdg10.score(X_train, y_train)))\n",
    "print('test set accuracy {:.3f}'.format(rdg10.score(X_test, y_test)))"
   ]
  },
  {
   "cell_type": "code",
   "execution_count": 79,
   "metadata": {},
   "outputs": [
    {
     "data": {
      "image/png": "[encoded data removed]",
      "text/plain": [
       "<Figure size 432x288 with 1 Axes>"
      ]
     },
     "metadata": {
      "needs_background": "light"
     },
     "output_type": "display_data"
    }
   ],
   "source": [
    "# Graph\n",
    "plt.plot(rdg10.coef_,\"^\", label='alpha=10')\n",
    "plt.plot(rdg.coef_,\"^\", label='alpha=1')\n",
    "plt.plot(rdg0p01.coef_,\"^\", label='alpha=0.01')\n",
    "plt.plot(lr.coef_,\"o\", label='LinearRegression')\n",
    "plt.xlabel(\"coef list\")\n",
    "plt.ylabel('coefficient')\n",
    "plt.hlines(0,0,len(lr.coef_))\n",
    "plt.ylim(-500,500)\n",
    "plt.legend()\n",
    "plt.show()"
   ]
  },
  {
   "cell_type": "markdown",
   "metadata": {},
   "source": [
    "### 1.4 Lasso\n",
    "- Ridge의 대안\n",
    "- Ridge와 마찬가지로 모든 계수를 0에 가깝게 만드나, 규제 방식에 차이가 있음(L1 규제)\n",
    "- 어떤 계숫값은 0으로 산출(완전 제외)"
   ]
  },
  {
   "cell_type": "code",
   "execution_count": 83,
   "metadata": {},
   "outputs": [],
   "source": [
    "from sklearn.linear_model import Lasso"
   ]
  },
  {
   "cell_type": "code",
   "execution_count": 80,
   "metadata": {},
   "outputs": [],
   "source": [
    "# 1. 데이터 분할\n",
    "\n",
    "X = diab.data\n",
    "y = diab.target\n",
    "\n",
    "X_train, X_test, y_train, y_test = \\\n",
    "    train_test_split(X,y, test_size=0.1, random_state=0)"
   ]
  },
  {
   "cell_type": "code",
   "execution_count": 94,
   "metadata": {},
   "outputs": [
    {
     "name": "stdout",
     "output_type": "stream",
     "text": [
      "train set accuracy 0.378\n",
      "test set accuracy 0.231\n",
      "사용한 특성의 수: 3\n"
     ]
    }
   ],
   "source": [
    "# 2. modeling\n",
    "\n",
    "lss = Lasso()\n",
    "lss.fit(X_train, y_train)\n",
    "\n",
    "\n",
    "# 3. 훈련 결과 확인\n",
    "\n",
    "print('train set accuracy {:.3f}'.format(lss.score(X_train, y_train)))\n",
    "print('test set accuracy {:.3f}'.format(lss.score(X_test, y_test)))\n",
    "print('사용한 특성의 수: {}'.format(np.sum(lss.coef_!=0)))"
   ]
  },
  {
   "cell_type": "code",
   "execution_count": 97,
   "metadata": {},
   "outputs": [
    {
     "name": "stdout",
     "output_type": "stream",
     "text": [
      "train set accuracy 0.522\n",
      "test set accuracy 0.341\n",
      "사용한 특성의 수: 7\n"
     ]
    }
   ],
   "source": [
    "# parameter tuning\n",
    "\n",
    "lss0p1 = Lasso(alpha=0.1)\n",
    "lss0p1.fit(X_train, y_train)\n",
    "\n",
    "print('train set accuracy {:.3f}'.format(lss0p1.score(X_train, y_train)))\n",
    "print('test set accuracy {:.3f}'.format(lss0p1.score(X_test, y_test)))\n",
    "print('사용한 특성의 수: {}'.format(np.sum(lss0p1.coef_!=0)))"
   ]
  },
  {
   "cell_type": "code",
   "execution_count": 98,
   "metadata": {},
   "outputs": [
    {
     "name": "stdout",
     "output_type": "stream",
     "text": [
      "train set accuracy 0.529\n",
      "test set accuracy 0.348\n",
      "사용한 특성의 수: 10\n"
     ]
    }
   ],
   "source": [
    "# parameter tuning\n",
    "\n",
    "lss0p01 = Lasso(alpha=0.01)\n",
    "lss0p01.fit(X_train, y_train)\n",
    "\n",
    "print('train set accuracy {:.3f}'.format(lss0p01.score(X_train, y_train)))\n",
    "print('test set accuracy {:.3f}'.format(lss0p01.score(X_test, y_test)))\n",
    "print('사용한 특성의 수: {}'.format(np.sum(lss0p01.coef_!=0)))"
   ]
  },
  {
   "cell_type": "code",
   "execution_count": 96,
   "metadata": {},
   "outputs": [
    {
     "name": "stdout",
     "output_type": "stream",
     "text": [
      "train set accuracy 0.000\n",
      "test set accuracy -0.038\n",
      "사용한 특성의 수: 0\n"
     ]
    }
   ],
   "source": [
    "lss10 = Lasso(alpha=10)\n",
    "lss10.fit(X_train, y_train)\n",
    "\n",
    "print('train set accuracy {:.3f}'.format(lss10.score(X_train, y_train)))\n",
    "print('test set accuracy {:.3f}'.format(lss10.score(X_test, y_test)))\n",
    "print('사용한 특성의 수: {}'.format(np.sum(lss10.coef_!=0)))"
   ]
  },
  {
   "cell_type": "markdown",
   "metadata": {},
   "source": [
    "---\n",
    "\n",
    "### 2.1 Logistic Regression\n",
    "- parameter C(cost func.)를 조정해 과대적합 혹은 과소적합 문제를 해결\n",
    "- C 값이 크면(높은 코스트) 훈련을 더 복잡하게 → 약한 규제\n",
    "- C 값이 작으면(낮은 코스트) 훈련을 덜 복잡하게 → 강한 규제"
   ]
  },
  {
   "cell_type": "code",
   "execution_count": 104,
   "metadata": {},
   "outputs": [],
   "source": [
    "from sklearn.linear_model import LogisticRegression"
   ]
  },
  {
   "cell_type": "code",
   "execution_count": 217,
   "metadata": {},
   "outputs": [],
   "source": [
    "# 1. 데이터 불러오기\n",
    "\n",
    "iris_dataset = datasets.load_iris()"
   ]
  },
  {
   "cell_type": "code",
   "execution_count": 218,
   "metadata": {},
   "outputs": [
    {
     "data": {
      "text/plain": [
       "(70, 4)"
      ]
     },
     "execution_count": 218,
     "metadata": {},
     "output_type": "execute_result"
    }
   ],
   "source": [
    "# 2. 데이터 분할 - 이항분류\n",
    "\n",
    "X = iris_dataset.data[50:,:]\n",
    "y = iris_dataset.target[50:]\n",
    "\n",
    "X_train, X_test, y_train, y_test = \\\n",
    "    train_test_split(X,y, test_size=0.3, random_state=58)\n",
    "\n",
    "X_train.shape"
   ]
  },
  {
   "cell_type": "code",
   "execution_count": 219,
   "metadata": {},
   "outputs": [
    {
     "name": "stdout",
     "output_type": "stream",
     "text": [
      "train set accuracy 0.957\n",
      "test set accuracy 0.933\n"
     ]
    }
   ],
   "source": [
    "# 3. modeling\n",
    "\n",
    "logreg = LogisticRegression().fit(X_train, y_train)\n",
    "logreg\n",
    "\n",
    "\n",
    "# 4. 훈련 결과 확인\n",
    "\n",
    "print('train set accuracy {:.3f}'.format(logreg.score(X_train, y_train)))\n",
    "print('test set accuracy {:.3f}'.format(logreg.score(X_test, y_test)))"
   ]
  },
  {
   "cell_type": "code",
   "execution_count": 220,
   "metadata": {},
   "outputs": [
    {
     "name": "stdout",
     "output_type": "stream",
     "text": [
      "train set accuracy 0.929\n",
      "test set accuracy 0.900\n"
     ]
    }
   ],
   "source": [
    "# parameter tuning\n",
    "\n",
    "logreg0p1 = LogisticRegression(C=0.1).fit(X_train, y_train)\n",
    "\n",
    "print('train set accuracy {:.3f}'.format(logreg0p1.score(X_train, y_train)))\n",
    "print('test set accuracy {:.3f}'.format(logreg0p1.score(X_test, y_test)))"
   ]
  },
  {
   "cell_type": "code",
   "execution_count": 221,
   "metadata": {},
   "outputs": [
    {
     "name": "stdout",
     "output_type": "stream",
     "text": [
      "train set accuracy 0.986\n",
      "test set accuracy 0.900\n"
     ]
    }
   ],
   "source": [
    "logreg10 = LogisticRegression(C=10).fit(X_train, y_train)\n",
    "\n",
    "print('train set accuracy {:.3f}'.format(logreg10.score(X_train, y_train)))\n",
    "print('test set accuracy {:.3f}'.format(logreg10.score(X_test, y_test)))"
   ]
  },
  {
   "cell_type": "code",
   "execution_count": 222,
   "metadata": {
    "scrolled": true
   },
   "outputs": [
    {
     "data": {
      "text/plain": [
       "array([[-0.10421167, -0.26898011,  2.61548484,  2.18239913]])"
      ]
     },
     "execution_count": 222,
     "metadata": {},
     "output_type": "execute_result"
    }
   ],
   "source": [
    "logreg.coef_"
   ]
  },
  {
   "cell_type": "code",
   "execution_count": 223,
   "metadata": {},
   "outputs": [
    {
     "data": {
      "text/plain": [
       "array([[-1.14195626, -0.72613352,  4.66638315,  5.60247286]])"
      ]
     },
     "execution_count": 223,
     "metadata": {},
     "output_type": "execute_result"
    }
   ],
   "source": [
    "logreg10.coef_"
   ]
  },
  {
   "cell_type": "code",
   "execution_count": 224,
   "metadata": {},
   "outputs": [
    {
     "data": {
      "text/plain": [
       "array([-15.09550173])"
      ]
     },
     "execution_count": 224,
     "metadata": {},
     "output_type": "execute_result"
    }
   ],
   "source": [
    "logreg.intercept_ # bias"
   ]
  },
  {
   "cell_type": "code",
   "execution_count": 225,
   "metadata": {
    "scrolled": true
   },
   "outputs": [
    {
     "data": {
      "text/plain": [
       "array([[0.99559989, 0.00440011],\n",
       "       [0.06710962, 0.93289038],\n",
       "       [0.84487952, 0.15512048],\n",
       "       [0.98850777, 0.01149223],\n",
       "       [0.03723777, 0.96276223],\n",
       "       [0.94747609, 0.05252391],\n",
       "       [0.49037746, 0.50962254],\n",
       "       [0.11718322, 0.88281678],\n",
       "       [0.01088702, 0.98911298],\n",
       "       [0.77227341, 0.22772659],\n",
       "       [0.52209591, 0.47790409],\n",
       "       [0.96505667, 0.03494333],\n",
       "       [0.01532233, 0.98467767],\n",
       "       [0.11476608, 0.88523392],\n",
       "       [0.68972391, 0.31027609],\n",
       "       [0.9815621 , 0.0184379 ],\n",
       "       [0.50302814, 0.49697186],\n",
       "       [0.25537322, 0.74462678],\n",
       "       [0.97125956, 0.02874044],\n",
       "       [0.03849744, 0.96150256],\n",
       "       [0.80887967, 0.19112033],\n",
       "       [0.05143334, 0.94856666],\n",
       "       [0.72063213, 0.27936787],\n",
       "       [0.88736123, 0.11263877],\n",
       "       [0.47317781, 0.52682219],\n",
       "       [0.09462779, 0.90537221],\n",
       "       [0.58297815, 0.41702185],\n",
       "       [0.97703402, 0.02296598],\n",
       "       [0.99567148, 0.00432852],\n",
       "       [0.02254181, 0.97745819]])"
      ]
     },
     "execution_count": 225,
     "metadata": {},
     "output_type": "execute_result"
    }
   ],
   "source": [
    "logreg.predict_proba(X_test) # model에 값을 넣었을 때 0 / 1이 나올 확률"
   ]
  },
  {
   "cell_type": "markdown",
   "metadata": {},
   "source": [
    "### 연습 2"
   ]
  },
  {
   "cell_type": "code",
   "execution_count": 226,
   "metadata": {
    "scrolled": true
   },
   "outputs": [
    {
     "data": {
      "text/plain": [
       "[[0.9955998868685761, 0.004400113131423855],\n",
       " [0.06710961722565846, 0.9328903827743416],\n",
       " [0.8448795164607187, 0.15512048353928132],\n",
       " [0.9885077673311233, 0.011492232668876667],\n",
       " [0.03723776596192729, 0.9627622340380727],\n",
       " [0.9474760928260879, 0.05252390717391209],\n",
       " [0.49037745522895765, 0.5096225447710423],\n",
       " [0.11718322354091505, 0.882816776459085],\n",
       " [0.01088702021428424, 0.9891129797857158],\n",
       " [0.7722734096930635, 0.22772659030693654],\n",
       " [0.5220959080785775, 0.47790409192142247],\n",
       " [0.9650566746384793, 0.03494332536152067],\n",
       " [0.015322332589081524, 0.9846776674109184],\n",
       " [0.11476607548285939, 0.8852339245171406],\n",
       " [0.6897239069108034, 0.31027609308919657],\n",
       " [0.9815620957014212, 0.018437904298578833],\n",
       " [0.503028136175619, 0.49697186382438097],\n",
       " [0.2553732200807535, 0.7446267799192465],\n",
       " [0.9712595643325309, 0.02874043566746909],\n",
       " [0.038497441988298166, 0.9615025580117018],\n",
       " [0.8088796651166267, 0.19112033488337332],\n",
       " [0.051433343007383635, 0.9485666569926163],\n",
       " [0.7206321310595097, 0.27936786894049026],\n",
       " [0.8873612271450604, 0.11263877285493962],\n",
       " [0.473177810412327, 0.526822189587673],\n",
       " [0.09462779232257147, 0.9053722076774285],\n",
       " [0.58297814885716, 0.41702185114283996],\n",
       " [0.9770340183742536, 0.022965981625746368],\n",
       " [0.9956714815811006, 0.004328518418899363],\n",
       " [0.022541809786445197, 0.9774581902135548]]"
      ]
     },
     "execution_count": 226,
     "metadata": {},
     "output_type": "execute_result"
    }
   ],
   "source": [
    "i = 0\n",
    "A = logreg.coef_[0]\n",
    "b = logreg.intercept_[0]\n",
    "TG = X_test\n",
    "pred_p = []\n",
    "\n",
    "for i in range(len(TG)):\n",
    "    temp = 1/(1+np.exp(A[0]*TG[i][0]+A[1]*TG[i][1]+A[2]*TG[i][2]+A[3]*TG[i][3]+b))\n",
    "    pred_p.append([temp,1-temp])\n",
    "\n",
    "pred_p"
   ]
  },
  {
   "cell_type": "code",
   "execution_count": 228,
   "metadata": {},
   "outputs": [
    {
     "data": {
      "text/plain": [
       "array([ True])"
      ]
     },
     "execution_count": 228,
     "metadata": {},
     "output_type": "execute_result"
    }
   ],
   "source": [
    "temp = logreg.predict_proba(X_test)\n",
    "np.unique([round(pred_p[n][1],4)==round(temp[n][1],4) for n in range(len(temp))])"
   ]
  },
  {
   "cell_type": "markdown",
   "metadata": {},
   "source": [
    "---\n",
    "\n",
    "### 연습 1"
   ]
  },
  {
   "cell_type": "code",
   "execution_count": 141,
   "metadata": {},
   "outputs": [],
   "source": [
    "boston = datasets.load_boston()"
   ]
  },
  {
   "cell_type": "code",
   "execution_count": 143,
   "metadata": {
    "scrolled": true
   },
   "outputs": [
    {
     "name": "stdout",
     "output_type": "stream",
     "text": [
      ".. _boston_dataset:\n",
      "\n",
      "Boston house prices dataset\n",
      "---------------------------\n",
      "\n",
      "**Data Set Characteristics:**  \n",
      "\n",
      "    :Number of Instances: 506 \n",
      "\n",
      "    :Number of Attributes: 13 numeric/categorical predictive. Median Value (attribute 14) is usually the target.\n",
      "\n",
      "    :Attribute Information (in order):\n",
      "        - CRIM     per capita crime rate by town\n",
      "        - ZN       proportion of residential land zoned for lots over 25,000 sq.ft.\n",
      "        - INDUS    proportion of non-retail business acres per town\n",
      "        - CHAS     Charles River dummy variable (= 1 if tract bounds river; 0 otherwise)\n",
      "        - NOX      nitric oxides concentration (parts per 10 million)\n",
      "        - RM       average number of rooms per dwelling\n",
      "        - AGE      proportion of owner-occupied units built prior to 1940\n",
      "        - DIS      weighted distances to five Boston employment centres\n",
      "        - RAD      index of accessibility to radial highways\n",
      "        - TAX      full-value property-tax rate per $10,000\n",
      "        - PTRATIO  pupil-teacher ratio by town\n",
      "        - B        1000(Bk - 0.63)^2 where Bk is the proportion of blacks by town\n",
      "        - LSTAT    % lower status of the population\n",
      "        - MEDV     Median value of owner-occupied homes in $1000's\n",
      "\n",
      "    :Missing Attribute Values: None\n",
      "\n",
      "    :Creator: Harrison, D. and Rubinfeld, D.L.\n",
      "\n",
      "This is a copy of UCI ML housing dataset.\n",
      "https://archive.ics.uci.edu/ml/machine-learning-databases/housing/\n",
      "\n",
      "\n",
      "This dataset was taken from the StatLib library which is maintained at Carnegie Mellon University.\n",
      "\n",
      "The Boston house-price data of Harrison, D. and Rubinfeld, D.L. 'Hedonic\n",
      "prices and the demand for clean air', J. Environ. Economics & Management,\n",
      "vol.5, 81-102, 1978.   Used in Belsley, Kuh & Welsch, 'Regression diagnostics\n",
      "...', Wiley, 1980.   N.B. Various transformations are used in the table on\n",
      "pages 244-261 of the latter.\n",
      "\n",
      "The Boston house-price data has been used in many machine learning papers that address regression\n",
      "problems.   \n",
      "     \n",
      ".. topic:: References\n",
      "\n",
      "   - Belsley, Kuh & Welsch, 'Regression diagnostics: Identifying Influential Data and Sources of Collinearity', Wiley, 1980. 244-261.\n",
      "   - Quinlan,R. (1993). Combining Instance-Based and Model-Based Learning. In Proceedings on the Tenth International Conference of Machine Learning, 236-243, University of Massachusetts, Amherst. Morgan Kaufmann.\n",
      "\n"
     ]
    }
   ],
   "source": [
    "print(boston['DESCR'])"
   ]
  },
  {
   "cell_type": "code",
   "execution_count": 198,
   "metadata": {},
   "outputs": [],
   "source": [
    "X = boston.data\n",
    "y = boston.target\n",
    "\n",
    "X_train, X_test, y_train, y_test = \\\n",
    "    train_test_split(X,y, test_size=0.1, random_state=0)"
   ]
  },
  {
   "cell_type": "code",
   "execution_count": 199,
   "metadata": {},
   "outputs": [
    {
     "name": "stdout",
     "output_type": "stream",
     "text": [
      "coef: [-1.14644795e-01  3.62004052e-02  6.53873262e-03  2.19924733e+00\n",
      " -1.59109961e+01  4.26798929e+00 -1.01602089e-02 -1.34698690e+00\n",
      "  2.71154731e-01 -1.16326045e-02 -1.01714981e+00  9.81293722e-03\n",
      " -4.43797298e-01]\n",
      "train set accuracy 0.763\n",
      "test set accuracy 0.515\n"
     ]
    }
   ],
   "source": [
    "# 1. multiple linear regression\n",
    "\n",
    "lr = LinearRegression()\n",
    "lr.fit(X_train, y_train)\n",
    "\n",
    "print(\"coef:\",lr.coef_)\n",
    "print('train set accuracy {:.3f}'.format(lr.score(X_train, y_train)))\n",
    "print('test set accuracy {:.3f}'.format(lr.score(X_test, y_test)))"
   ]
  },
  {
   "cell_type": "code",
   "execution_count": 200,
   "metadata": {},
   "outputs": [
    {
     "name": "stdout",
     "output_type": "stream",
     "text": [
      "coef: [-1.14644795e-01  3.62004052e-02  6.53873262e-03  2.19924733e+00\n",
      " -1.59109961e+01  4.26798929e+00 -1.01602089e-02 -1.34698690e+00\n",
      "  2.71154731e-01 -1.16326045e-02 -1.01714981e+00  9.81293722e-03\n",
      " -4.43797298e-01]\n",
      "train set accuracy 0.761\n",
      "test set accuracy 0.503\n"
     ]
    }
   ],
   "source": [
    "# 2. Ridge\n",
    "\n",
    "rdg = Ridge()\n",
    "rdg.fit(X_train, y_train)\n",
    "\n",
    "print(\"coef:\",lr.coef_)\n",
    "print('train set accuracy {:.3f}'.format(rdg.score(X_train, y_train)))\n",
    "print('test set accuracy {:.3f}'.format(rdg.score(X_test, y_test)))"
   ]
  },
  {
   "cell_type": "code",
   "execution_count": 201,
   "metadata": {},
   "outputs": [
    {
     "name": "stdout",
     "output_type": "stream",
     "text": [
      "coef: [-1.13968503e-01  3.63805363e-02  1.71898438e-03  2.19740031e+00\n",
      " -1.47592982e+01  4.27492271e+00 -1.12438344e-02 -1.33135631e+00\n",
      "  2.67804364e-01 -1.17124633e-02 -1.00518255e+00  9.86392065e-03\n",
      " -4.44856974e-01]\n",
      "train set accuracy 0.763\n",
      "test set accuracy 0.513\n"
     ]
    }
   ],
   "source": [
    "rdg0p1 = Ridge(alpha=0.1)\n",
    "rdg0p1.fit(X_train, y_train)\n",
    "\n",
    "print(\"coef:\",rdg0p1.coef_)\n",
    "print('train set accuracy {:.3f}'.format(rdg0p1.score(X_train, y_train)))\n",
    "print('test set accuracy {:.3f}'.format(rdg0p1.score(X_test, y_test)))"
   ]
  },
  {
   "cell_type": "code",
   "execution_count": 202,
   "metadata": {},
   "outputs": [
    {
     "name": "stdout",
     "output_type": "stream",
     "text": [
      "coef: [-0.10742202  0.03980207 -0.05265756  1.66630567 -1.82316948  4.06229011\n",
      " -0.02093459 -1.16092237  0.24247336 -0.01315259 -0.88605744  0.01034261\n",
      " -0.47777859]\n",
      "train set accuracy 0.756\n",
      "test set accuracy 0.489\n"
     ]
    }
   ],
   "source": [
    "rdg10 = Ridge(alpha=10)\n",
    "rdg10.fit(X_train, y_train)\n",
    "\n",
    "print(\"coef:\",rdg10.coef_)\n",
    "print('train set accuracy {:.3f}'.format(rdg10.score(X_train, y_train)))\n",
    "print('test set accuracy {:.3f}'.format(rdg10.score(X_test, y_test)))"
   ]
  },
  {
   "cell_type": "code",
   "execution_count": 203,
   "metadata": {},
   "outputs": [
    {
     "name": "stdout",
     "output_type": "stream",
     "text": [
      "train set accuracy 0.709\n",
      "test set accuracy 0.492\n",
      "사용한 특성의 수: 10\n"
     ]
    }
   ],
   "source": [
    "# 3. Lasso\n",
    "\n",
    "lss = Lasso()\n",
    "lss.fit(X_train, y_train)\n",
    "\n",
    "print('train set accuracy {:.3f}'.format(lss.score(X_train, y_train)))\n",
    "print('test set accuracy {:.3f}'.format(lss.score(X_test, y_test)))\n",
    "print('사용한 특성의 수: {}'.format(np.sum(lss.coef_!=0)))"
   ]
  },
  {
   "cell_type": "code",
   "execution_count": 204,
   "metadata": {},
   "outputs": [
    {
     "name": "stdout",
     "output_type": "stream",
     "text": [
      "train set accuracy 0.752\n",
      "test set accuracy 0.474\n",
      "사용한 특성의 수: 12\n"
     ]
    }
   ],
   "source": [
    "lss0p1 = Lasso(alpha=0.1)\n",
    "lss0p1.fit(X_train, y_train)\n",
    "\n",
    "print('train set accuracy {:.3f}'.format(lss0p1.score(X_train, y_train)))\n",
    "print('test set accuracy {:.3f}'.format(lss0p1.score(X_test, y_test)))\n",
    "print('사용한 특성의 수: {}'.format(np.sum(lss0p1.coef_!=0)))"
   ]
  },
  {
   "cell_type": "code",
   "execution_count": 205,
   "metadata": {},
   "outputs": [
    {
     "name": "stdout",
     "output_type": "stream",
     "text": [
      "train set accuracy 0.536\n",
      "test set accuracy 0.332\n",
      "사용한 특성의 수: 4\n"
     ]
    }
   ],
   "source": [
    "lss10 = Lasso(alpha=10)\n",
    "lss10.fit(X_train, y_train)\n",
    "\n",
    "print('train set accuracy {:.3f}'.format(lss10.score(X_train, y_train)))\n",
    "print('test set accuracy {:.3f}'.format(lss10.score(X_test, y_test)))\n",
    "print('사용한 특성의 수: {}'.format(np.sum(lss10.coef_!=0)))"
   ]
  },
  {
   "cell_type": "markdown",
   "metadata": {},
   "source": [
    "### 연습 3"
   ]
  },
  {
   "cell_type": "code",
   "execution_count": 229,
   "metadata": {
    "scrolled": true
   },
   "outputs": [
    {
     "name": "stdout",
     "output_type": "stream",
     "text": [
      ".. _breast_cancer_dataset:\n",
      "\n",
      "Breast cancer wisconsin (diagnostic) dataset\n",
      "--------------------------------------------\n",
      "\n",
      "**Data Set Characteristics:**\n",
      "\n",
      "    :Number of Instances: 569\n",
      "\n",
      "    :Number of Attributes: 30 numeric, predictive attributes and the class\n",
      "\n",
      "    :Attribute Information:\n",
      "        - radius (mean of distances from center to points on the perimeter)\n",
      "        - texture (standard deviation of gray-scale values)\n",
      "        - perimeter\n",
      "        - area\n",
      "        - smoothness (local variation in radius lengths)\n",
      "        - compactness (perimeter^2 / area - 1.0)\n",
      "        - concavity (severity of concave portions of the contour)\n",
      "        - concave points (number of concave portions of the contour)\n",
      "        - symmetry\n",
      "        - fractal dimension (\"coastline approximation\" - 1)\n",
      "\n",
      "        The mean, standard error, and \"worst\" or largest (mean of the three\n",
      "        worst/largest values) of these features were computed for each image,\n",
      "        resulting in 30 features.  For instance, field 0 is Mean Radius, field\n",
      "        10 is Radius SE, field 20 is Worst Radius.\n",
      "\n",
      "        - class:\n",
      "                - WDBC-Malignant\n",
      "                - WDBC-Benign\n",
      "\n",
      "    :Summary Statistics:\n",
      "\n",
      "    ===================================== ====== ======\n",
      "                                           Min    Max\n",
      "    ===================================== ====== ======\n",
      "    radius (mean):                        6.981  28.11\n",
      "    texture (mean):                       9.71   39.28\n",
      "    perimeter (mean):                     43.79  188.5\n",
      "    area (mean):                          143.5  2501.0\n",
      "    smoothness (mean):                    0.053  0.163\n",
      "    compactness (mean):                   0.019  0.345\n",
      "    concavity (mean):                     0.0    0.427\n",
      "    concave points (mean):                0.0    0.201\n",
      "    symmetry (mean):                      0.106  0.304\n",
      "    fractal dimension (mean):             0.05   0.097\n",
      "    radius (standard error):              0.112  2.873\n",
      "    texture (standard error):             0.36   4.885\n",
      "    perimeter (standard error):           0.757  21.98\n",
      "    area (standard error):                6.802  542.2\n",
      "    smoothness (standard error):          0.002  0.031\n",
      "    compactness (standard error):         0.002  0.135\n",
      "    concavity (standard error):           0.0    0.396\n",
      "    concave points (standard error):      0.0    0.053\n",
      "    symmetry (standard error):            0.008  0.079\n",
      "    fractal dimension (standard error):   0.001  0.03\n",
      "    radius (worst):                       7.93   36.04\n",
      "    texture (worst):                      12.02  49.54\n",
      "    perimeter (worst):                    50.41  251.2\n",
      "    area (worst):                         185.2  4254.0\n",
      "    smoothness (worst):                   0.071  0.223\n",
      "    compactness (worst):                  0.027  1.058\n",
      "    concavity (worst):                    0.0    1.252\n",
      "    concave points (worst):               0.0    0.291\n",
      "    symmetry (worst):                     0.156  0.664\n",
      "    fractal dimension (worst):            0.055  0.208\n",
      "    ===================================== ====== ======\n",
      "\n",
      "    :Missing Attribute Values: None\n",
      "\n",
      "    :Class Distribution: 212 - Malignant, 357 - Benign\n",
      "\n",
      "    :Creator:  Dr. William H. Wolberg, W. Nick Street, Olvi L. Mangasarian\n",
      "\n",
      "    :Donor: Nick Street\n",
      "\n",
      "    :Date: November, 1995\n",
      "\n",
      "This is a copy of UCI ML Breast Cancer Wisconsin (Diagnostic) datasets.\n",
      "https://goo.gl/U2Uwz2\n",
      "\n",
      "Features are computed from a digitized image of a fine needle\n",
      "aspirate (FNA) of a breast mass.  They describe\n",
      "characteristics of the cell nuclei present in the image.\n",
      "\n",
      "Separating plane described above was obtained using\n",
      "Multisurface Method-Tree (MSM-T) [K. P. Bennett, \"Decision Tree\n",
      "Construction Via Linear Programming.\" Proceedings of the 4th\n",
      "Midwest Artificial Intelligence and Cognitive Science Society,\n",
      "pp. 97-101, 1992], a classification method which uses linear\n",
      "programming to construct a decision tree.  Relevant features\n",
      "were selected using an exhaustive search in the space of 1-4\n",
      "features and 1-3 separating planes.\n",
      "\n",
      "The actual linear program used to obtain the separating plane\n",
      "in the 3-dimensional space is that described in:\n",
      "[K. P. Bennett and O. L. Mangasarian: \"Robust Linear\n",
      "Programming Discrimination of Two Linearly Inseparable Sets\",\n",
      "Optimization Methods and Software 1, 1992, 23-34].\n",
      "\n",
      "This database is also available through the UW CS ftp server:\n",
      "\n",
      "ftp ftp.cs.wisc.edu\n",
      "cd math-prog/cpo-dataset/machine-learn/WDBC/\n",
      "\n",
      ".. topic:: References\n",
      "\n",
      "   - W.N. Street, W.H. Wolberg and O.L. Mangasarian. Nuclear feature extraction \n",
      "     for breast tumor diagnosis. IS&T/SPIE 1993 International Symposium on \n",
      "     Electronic Imaging: Science and Technology, volume 1905, pages 861-870,\n",
      "     San Jose, CA, 1993.\n",
      "   - O.L. Mangasarian, W.N. Street and W.H. Wolberg. Breast cancer diagnosis and \n",
      "     prognosis via linear programming. Operations Research, 43(4), pages 570-577, \n",
      "     July-August 1995.\n",
      "   - W.H. Wolberg, W.N. Street, and O.L. Mangasarian. Machine learning techniques\n",
      "     to diagnose breast cancer from fine-needle aspirates. Cancer Letters 77 (1994) \n",
      "     163-171.\n"
     ]
    }
   ],
   "source": [
    "print(cancer.DESCR)"
   ]
  },
  {
   "cell_type": "code",
   "execution_count": 243,
   "metadata": {},
   "outputs": [
    {
     "data": {
      "text/plain": [
       "array([1.799e+01, 1.038e+01, 1.228e+02, 1.001e+03, 1.184e-01, 2.776e-01,\n",
       "       3.001e-01, 1.471e-01, 2.419e-01, 7.871e-02, 1.095e+00, 9.053e-01,\n",
       "       8.589e+00, 1.534e+02, 6.399e-03, 4.904e-02, 5.373e-02, 1.587e-02,\n",
       "       3.003e-02, 6.193e-03, 2.538e+01, 1.733e+01, 1.846e+02, 2.019e+03,\n",
       "       1.622e-01, 6.656e-01, 7.119e-01, 2.654e-01, 4.601e-01, 1.189e-01])"
      ]
     },
     "execution_count": 243,
     "metadata": {},
     "output_type": "execute_result"
    }
   ],
   "source": [
    "cancer.data[0]"
   ]
  },
  {
   "cell_type": "code",
   "execution_count": 245,
   "metadata": {},
   "outputs": [],
   "source": [
    "X=cancer.data\n",
    "y=cancer.target\n",
    "\n",
    "X_train, X_test, y_train, y_test = \\\n",
    "    train_test_split(X,y, test_size=0.2, random_state=10)"
   ]
  },
  {
   "cell_type": "code",
   "execution_count": 246,
   "metadata": {},
   "outputs": [
    {
     "name": "stdout",
     "output_type": "stream",
     "text": [
      "train set accuracy 0.960\n",
      "test set accuracy 0.956\n"
     ]
    }
   ],
   "source": [
    "logreg = LogisticRegression(max_iter=10000).fit(X_train, y_train)\n",
    "\n",
    "print('train set accuracy {:.3f}'.format(logreg.score(X_train, y_train)))\n",
    "print('test set accuracy {:.3f}'.format(logreg.score(X_test, y_test)))"
   ]
  },
  {
   "cell_type": "code",
   "execution_count": 250,
   "metadata": {},
   "outputs": [
    {
     "name": "stdout",
     "output_type": "stream",
     "text": [
      "train set accuracy 0.956\n",
      "test set accuracy 0.939\n"
     ]
    }
   ],
   "source": [
    "logreg0p1 = LogisticRegression(C=0.1, max_iter=10000).fit(X_train, y_train)\n",
    "\n",
    "print('train set accuracy {:.3f}'.format(logreg0p1.score(X_train, y_train)))\n",
    "print('test set accuracy {:.3f}'.format(logreg0p1.score(X_test, y_test)))"
   ]
  },
  {
   "cell_type": "code",
   "execution_count": 251,
   "metadata": {},
   "outputs": [
    {
     "name": "stdout",
     "output_type": "stream",
     "text": [
      "train set accuracy 0.969\n",
      "test set accuracy 0.939\n"
     ]
    }
   ],
   "source": [
    "logreg10 = LogisticRegression(C=10, max_iter=10000).fit(X_train, y_train)\n",
    "\n",
    "print('train set accuracy {:.3f}'.format(logreg10.score(X_train, y_train)))\n",
    "print('test set accuracy {:.3f}'.format(logreg10.score(X_test, y_test)))"
   ]
  },
  {
   "cell_type": "code",
   "execution_count": null,
   "metadata": {},
   "outputs": [],
   "source": []
  },
  {
   "cell_type": "code",
   "execution_count": null,
   "metadata": {},
   "outputs": [],
   "source": []
  }
 ],
 "metadata": {
  "kernelspec": {
   "display_name": "Python 3",
   "language": "python",
   "name": "python3"
  },
  "language_info": {
   "codemirror_mode": {
    "name": "ipython",
    "version": 3
   },
   "file_extension": ".py",
   "mimetype": "text/x-python",
   "name": "python",
   "nbconvert_exporter": "python",
   "pygments_lexer": "ipython3",
   "version": "3.8.3"
  }
 },
 "nbformat": 4,
 "nbformat_minor": 4
}
