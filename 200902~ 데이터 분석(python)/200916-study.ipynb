{
 "cells": [
  {
   "cell_type": "code",
   "execution_count": 1,
   "metadata": {},
   "outputs": [],
   "source": [
    "from sklearn.linear_model import LinearRegression, LogisticRegression\n",
    "from sklearn import datasets\n",
    "from sklearn.model_selection import train_test_split\n",
    "import matplotlib.pyplot as plt\n",
    "import numpy as np\n",
    "import pandas as pd"
   ]
  },
  {
   "cell_type": "code",
   "execution_count": 5,
   "metadata": {},
   "outputs": [
    {
     "data": {
      "text/plain": [
       "array([[5.1, 3.5, 1.4, 0.2],\n",
       "       [4.9, 3. , 1.4, 0.2],\n",
       "       [4.7, 3.2, 1.3, 0.2],\n",
       "       [4.6, 3.1, 1.5, 0.2],\n",
       "       [5. , 3.6, 1.4, 0.2],\n",
       "       [5.4, 3.9, 1.7, 0.4],\n",
       "       [4.6, 3.4, 1.4, 0.3],\n",
       "       [5. , 3.4, 1.5, 0.2],\n",
       "       [4.4, 2.9, 1.4, 0.2],\n",
       "       [4.9, 3.1, 1.5, 0.1],\n",
       "       [5.4, 3.7, 1.5, 0.2],\n",
       "       [4.8, 3.4, 1.6, 0.2],\n",
       "       [4.8, 3. , 1.4, 0.1],\n",
       "       [4.3, 3. , 1.1, 0.1],\n",
       "       [5.8, 4. , 1.2, 0.2],\n",
       "       [5.7, 4.4, 1.5, 0.4],\n",
       "       [5.4, 3.9, 1.3, 0.4],\n",
       "       [5.1, 3.5, 1.4, 0.3],\n",
       "       [5.7, 3.8, 1.7, 0.3],\n",
       "       [5.1, 3.8, 1.5, 0.3],\n",
       "       [5.4, 3.4, 1.7, 0.2],\n",
       "       [5.1, 3.7, 1.5, 0.4],\n",
       "       [4.6, 3.6, 1. , 0.2],\n",
       "       [5.1, 3.3, 1.7, 0.5],\n",
       "       [4.8, 3.4, 1.9, 0.2],\n",
       "       [5. , 3. , 1.6, 0.2],\n",
       "       [5. , 3.4, 1.6, 0.4],\n",
       "       [5.2, 3.5, 1.5, 0.2],\n",
       "       [5.2, 3.4, 1.4, 0.2],\n",
       "       [4.7, 3.2, 1.6, 0.2],\n",
       "       [4.8, 3.1, 1.6, 0.2],\n",
       "       [5.4, 3.4, 1.5, 0.4],\n",
       "       [5.2, 4.1, 1.5, 0.1],\n",
       "       [5.5, 4.2, 1.4, 0.2],\n",
       "       [4.9, 3.1, 1.5, 0.2],\n",
       "       [5. , 3.2, 1.2, 0.2],\n",
       "       [5.5, 3.5, 1.3, 0.2],\n",
       "       [4.9, 3.6, 1.4, 0.1],\n",
       "       [4.4, 3. , 1.3, 0.2],\n",
       "       [5.1, 3.4, 1.5, 0.2],\n",
       "       [5. , 3.5, 1.3, 0.3],\n",
       "       [4.5, 2.3, 1.3, 0.3],\n",
       "       [4.4, 3.2, 1.3, 0.2],\n",
       "       [5. , 3.5, 1.6, 0.6],\n",
       "       [5.1, 3.8, 1.9, 0.4],\n",
       "       [4.8, 3. , 1.4, 0.3],\n",
       "       [5.1, 3.8, 1.6, 0.2],\n",
       "       [4.6, 3.2, 1.4, 0.2],\n",
       "       [5.3, 3.7, 1.5, 0.2],\n",
       "       [5. , 3.3, 1.4, 0.2],\n",
       "       [7. , 3.2, 4.7, 1.4],\n",
       "       [6.4, 3.2, 4.5, 1.5],\n",
       "       [6.9, 3.1, 4.9, 1.5],\n",
       "       [5.5, 2.3, 4. , 1.3],\n",
       "       [6.5, 2.8, 4.6, 1.5],\n",
       "       [5.7, 2.8, 4.5, 1.3],\n",
       "       [6.3, 3.3, 4.7, 1.6],\n",
       "       [4.9, 2.4, 3.3, 1. ],\n",
       "       [6.6, 2.9, 4.6, 1.3],\n",
       "       [5.2, 2.7, 3.9, 1.4],\n",
       "       [5. , 2. , 3.5, 1. ],\n",
       "       [5.9, 3. , 4.2, 1.5],\n",
       "       [6. , 2.2, 4. , 1. ],\n",
       "       [6.1, 2.9, 4.7, 1.4],\n",
       "       [5.6, 2.9, 3.6, 1.3],\n",
       "       [6.7, 3.1, 4.4, 1.4],\n",
       "       [5.6, 3. , 4.5, 1.5],\n",
       "       [5.8, 2.7, 4.1, 1. ],\n",
       "       [6.2, 2.2, 4.5, 1.5],\n",
       "       [5.6, 2.5, 3.9, 1.1],\n",
       "       [5.9, 3.2, 4.8, 1.8],\n",
       "       [6.1, 2.8, 4. , 1.3],\n",
       "       [6.3, 2.5, 4.9, 1.5],\n",
       "       [6.1, 2.8, 4.7, 1.2],\n",
       "       [6.4, 2.9, 4.3, 1.3],\n",
       "       [6.6, 3. , 4.4, 1.4],\n",
       "       [6.8, 2.8, 4.8, 1.4],\n",
       "       [6.7, 3. , 5. , 1.7],\n",
       "       [6. , 2.9, 4.5, 1.5],\n",
       "       [5.7, 2.6, 3.5, 1. ],\n",
       "       [5.5, 2.4, 3.8, 1.1],\n",
       "       [5.5, 2.4, 3.7, 1. ],\n",
       "       [5.8, 2.7, 3.9, 1.2],\n",
       "       [6. , 2.7, 5.1, 1.6],\n",
       "       [5.4, 3. , 4.5, 1.5],\n",
       "       [6. , 3.4, 4.5, 1.6],\n",
       "       [6.7, 3.1, 4.7, 1.5],\n",
       "       [6.3, 2.3, 4.4, 1.3],\n",
       "       [5.6, 3. , 4.1, 1.3],\n",
       "       [5.5, 2.5, 4. , 1.3],\n",
       "       [5.5, 2.6, 4.4, 1.2],\n",
       "       [6.1, 3. , 4.6, 1.4],\n",
       "       [5.8, 2.6, 4. , 1.2],\n",
       "       [5. , 2.3, 3.3, 1. ],\n",
       "       [5.6, 2.7, 4.2, 1.3],\n",
       "       [5.7, 3. , 4.2, 1.2],\n",
       "       [5.7, 2.9, 4.2, 1.3],\n",
       "       [6.2, 2.9, 4.3, 1.3],\n",
       "       [5.1, 2.5, 3. , 1.1],\n",
       "       [5.7, 2.8, 4.1, 1.3],\n",
       "       [6.3, 3.3, 6. , 2.5],\n",
       "       [5.8, 2.7, 5.1, 1.9],\n",
       "       [7.1, 3. , 5.9, 2.1],\n",
       "       [6.3, 2.9, 5.6, 1.8],\n",
       "       [6.5, 3. , 5.8, 2.2],\n",
       "       [7.6, 3. , 6.6, 2.1],\n",
       "       [4.9, 2.5, 4.5, 1.7],\n",
       "       [7.3, 2.9, 6.3, 1.8],\n",
       "       [6.7, 2.5, 5.8, 1.8],\n",
       "       [7.2, 3.6, 6.1, 2.5],\n",
       "       [6.5, 3.2, 5.1, 2. ],\n",
       "       [6.4, 2.7, 5.3, 1.9],\n",
       "       [6.8, 3. , 5.5, 2.1],\n",
       "       [5.7, 2.5, 5. , 2. ],\n",
       "       [5.8, 2.8, 5.1, 2.4],\n",
       "       [6.4, 3.2, 5.3, 2.3],\n",
       "       [6.5, 3. , 5.5, 1.8],\n",
       "       [7.7, 3.8, 6.7, 2.2],\n",
       "       [7.7, 2.6, 6.9, 2.3],\n",
       "       [6. , 2.2, 5. , 1.5],\n",
       "       [6.9, 3.2, 5.7, 2.3],\n",
       "       [5.6, 2.8, 4.9, 2. ],\n",
       "       [7.7, 2.8, 6.7, 2. ],\n",
       "       [6.3, 2.7, 4.9, 1.8],\n",
       "       [6.7, 3.3, 5.7, 2.1],\n",
       "       [7.2, 3.2, 6. , 1.8],\n",
       "       [6.2, 2.8, 4.8, 1.8],\n",
       "       [6.1, 3. , 4.9, 1.8],\n",
       "       [6.4, 2.8, 5.6, 2.1],\n",
       "       [7.2, 3. , 5.8, 1.6],\n",
       "       [7.4, 2.8, 6.1, 1.9],\n",
       "       [7.9, 3.8, 6.4, 2. ],\n",
       "       [6.4, 2.8, 5.6, 2.2],\n",
       "       [6.3, 2.8, 5.1, 1.5],\n",
       "       [6.1, 2.6, 5.6, 1.4],\n",
       "       [7.7, 3. , 6.1, 2.3],\n",
       "       [6.3, 3.4, 5.6, 2.4],\n",
       "       [6.4, 3.1, 5.5, 1.8],\n",
       "       [6. , 3. , 4.8, 1.8],\n",
       "       [6.9, 3.1, 5.4, 2.1],\n",
       "       [6.7, 3.1, 5.6, 2.4],\n",
       "       [6.9, 3.1, 5.1, 2.3],\n",
       "       [5.8, 2.7, 5.1, 1.9],\n",
       "       [6.8, 3.2, 5.9, 2.3],\n",
       "       [6.7, 3.3, 5.7, 2.5],\n",
       "       [6.7, 3. , 5.2, 2.3],\n",
       "       [6.3, 2.5, 5. , 1.9],\n",
       "       [6.5, 3. , 5.2, 2. ],\n",
       "       [6.2, 3.4, 5.4, 2.3],\n",
       "       [5.9, 3. , 5.1, 1.8]])"
      ]
     },
     "execution_count": 5,
     "metadata": {},
     "output_type": "execute_result"
    }
   ],
   "source": [
    "X"
   ]
  },
  {
   "cell_type": "code",
   "execution_count": 2,
   "metadata": {},
   "outputs": [
    {
     "name": "stdout",
     "output_type": "stream",
     "text": [
      "train set accuracy 0.933\n",
      "test set accuracy 0.978\n"
     ]
    }
   ],
   "source": [
    "# 1. 데이터 불러오기\n",
    "iris_dataset = datasets.load_iris()\n",
    "\n",
    "# 2. 데이터 분할\n",
    "X = iris_dataset.data\n",
    "y = iris_dataset.target\n",
    "\n",
    "X_train, X_test, y_train, y_test = \\\n",
    "    train_test_split(X,y, test_size=0.3, random_state=5)\n",
    "\n",
    "# 3. modeling\n",
    "multi_logreg = LogisticRegression(multi_class='ovr').fit(X_train, y_train)\n",
    "\n",
    "# 4. 결과 비교\n",
    "print('train set accuracy {:.3f}'.format(multi_logreg.score(X_train, y_train)))\n",
    "print('test set accuracy {:.3f}'.format(multi_logreg.score(X_test, y_test)))\n",
    "\n",
    "# 5. parameter tuning\n",
    "logreg0p01 = LogisticRegression(multi_class='ovr', C=0.01).fit(X_train, y_train)\n",
    "logreg100 = LogisticRegression(multi_class='ovr', C=100).fit(X_train, y_train)"
   ]
  },
  {
   "cell_type": "markdown",
   "metadata": {},
   "source": [
    "---\n",
    "\n",
    "### 2.2 Linear Support Vector\n",
    "- parameter C를 조정해 과대적합 혹은 과소적합 문제를 해결\n",
    "- C(cost func.) 값이 크면(높은 코스트) 훈련을 더 복잡하게 → 약한 규제\n",
    "- C 값이 작으면 훈련을 덜 복잡하게 → 강한 규제"
   ]
  },
  {
   "cell_type": "code",
   "execution_count": 10,
   "metadata": {},
   "outputs": [],
   "source": [
    "from sklearn.svm import LinearSVC  # 서포트벡터 분류법"
   ]
  },
  {
   "cell_type": "code",
   "execution_count": 14,
   "metadata": {},
   "outputs": [
    {
     "data": {
      "text/plain": [
       "array([2, 1, 0, 1, 2, 1, 0, 1, 1, 0, 0, 2, 2, 0, 0, 2, 2, 0, 2, 2, 0, 2,\n",
       "       2, 0, 0, 0, 1, 2, 2, 2, 2, 1, 1, 2, 0, 0, 0, 0, 1, 1, 2, 0, 1, 0,\n",
       "       0, 1, 2, 2, 2, 1, 1, 1, 0, 2, 2, 2, 0, 0, 1, 0, 2, 1, 2, 1, 2, 2,\n",
       "       1, 2, 1, 1, 1, 2, 2, 0, 1, 2, 1, 2, 1, 1, 0, 1, 0, 2, 0, 0, 0, 1,\n",
       "       0, 1, 1, 1, 0, 1, 0, 0, 0, 1, 2, 0])"
      ]
     },
     "execution_count": 14,
     "metadata": {},
     "output_type": "execute_result"
    }
   ],
   "source": [
    "# 1. toy dataset 생성\n",
    "X, y = datasets.make_blobs(random_state=42)\n",
    "y"
   ]
  },
  {
   "cell_type": "code",
   "execution_count": 16,
   "metadata": {},
   "outputs": [
    {
     "data": {
      "text/plain": [
       "<matplotlib.legend.Legend at 0x1f410bb89a0>"
      ]
     },
     "execution_count": 16,
     "metadata": {},
     "output_type": "execute_result"
    },
    {
     "data": {
      "image/png": "[encoded data removed]",
      "text/plain": [
       "<Figure size 432x288 with 1 Axes>"
      ]
     },
     "metadata": {
      "needs_background": "light"
     },
     "output_type": "display_data"
    }
   ],
   "source": [
    "# 2. graph\n",
    "fig,ax = plt.subplots()\n",
    "\n",
    "scatter = ax.scatter(X[:,0], X[:,1], c=y, s=50)\n",
    "ax.legend(*scatter.legend_elements(), loc='lower right', title='class')"
   ]
  },
  {
   "cell_type": "code",
   "execution_count": 18,
   "metadata": {},
   "outputs": [],
   "source": [
    "# 3. modeling\n",
    "linear_svm = LinearSVC().fit(X,y)"
   ]
  },
  {
   "cell_type": "code",
   "execution_count": 22,
   "metadata": {},
   "outputs": [
    {
     "data": {
      "text/plain": [
       "array([[-0.17492357,  0.23140129],\n",
       "       [ 0.47621202, -0.06936685],\n",
       "       [-0.18913851, -0.20400569]])"
      ]
     },
     "execution_count": 22,
     "metadata": {},
     "output_type": "execute_result"
    }
   ],
   "source": [
    "# 4.1 클래스별 계수 확인\n",
    "linear_svm.coef_"
   ]
  },
  {
   "cell_type": "code",
   "execution_count": 23,
   "metadata": {},
   "outputs": [
    {
     "data": {
      "text/plain": [
       "array([-1.07745581,  0.13140388, -0.08604932])"
      ]
     },
     "execution_count": 23,
     "metadata": {},
     "output_type": "execute_result"
    }
   ],
   "source": [
    "linear_svm.intercept_"
   ]
  },
  {
   "cell_type": "code",
   "execution_count": 28,
   "metadata": {},
   "outputs": [
    {
     "data": {
      "image/png": "[encoded data removed]",
      "text/plain": [
       "<Figure size 432x288 with 1 Axes>"
      ]
     },
     "metadata": {
      "needs_background": "light"
     },
     "output_type": "display_data"
    }
   ],
   "source": [
    "# Graph\n",
    "line = np.linspace(-15,15)\n",
    "\n",
    "fig,ax = plt.subplots()\n",
    "scatter = ax.scatter(X[:,0], X[:,1], c=y, s=50)\n",
    "\n",
    "for coef,intercept,color in zip(linear_svm.coef_, linear_svm.intercept_, ['green','blue','red']):\n",
    "    ax.plot(line, -(line*coef[0]+intercept)/coef[1], c=color)\n",
    "\n",
    "ax.set_xlim(-10,8)\n",
    "ax.set_ylim(-10,15)\n",
    "\n",
    "ax.legend(*scatter.legend_elements(), loc='best', title='class')\n",
    "plt.show()"
   ]
  },
  {
   "cell_type": "markdown",
   "metadata": {},
   "source": [
    "### mlxtend package"
   ]
  },
  {
   "cell_type": "code",
   "execution_count": 31,
   "metadata": {},
   "outputs": [],
   "source": [
    "from mlxtend.plotting import plot_decision_regions"
   ]
  },
  {
   "cell_type": "code",
   "execution_count": 33,
   "metadata": {},
   "outputs": [
    {
     "data": {
      "image/png": "[encoded data removed]",
      "text/plain": [
       "<Figure size 432x288 with 1 Axes>"
      ]
     },
     "metadata": {
      "needs_background": "light"
     },
     "output_type": "display_data"
    }
   ],
   "source": [
    "plot_decision_regions(X=X, y=y, \n",
    "                      clf=linear_svm, legend=4)\n",
    "plt.title('SVC Decision Region Boundary', size=15)\n",
    "plt.show()"
   ]
  },
  {
   "cell_type": "markdown",
   "metadata": {},
   "source": [
    "---\n",
    "\n",
    "#### with Iris Dataset"
   ]
  },
  {
   "cell_type": "code",
   "execution_count": 36,
   "metadata": {},
   "outputs": [],
   "source": [
    "iris = datasets.load_iris()\n",
    "\n",
    "X = iris.data[:,2:4]\n",
    "y = iris.target\n",
    "\n",
    "X_train, X_test, y_train, y_test = \\\n",
    "    train_test_split(X,y, test_size=0.3, random_state=35)"
   ]
  },
  {
   "cell_type": "code",
   "execution_count": 37,
   "metadata": {},
   "outputs": [],
   "source": [
    "iris_svm = LinearSVC().fit(X_train, y_train)"
   ]
  },
  {
   "cell_type": "code",
   "execution_count": 41,
   "metadata": {},
   "outputs": [
    {
     "data": {
      "text/plain": [
       "array([1, 2, 2, 1, 0, 2, 2, 1, 1, 0, 1, 2, 0, 2, 0, 2, 1, 0, 0, 0, 1, 1,\n",
       "       2, 1, 0, 0, 0, 2, 0, 2, 0, 2, 2, 0, 1, 1, 0, 2, 2, 1, 0, 0, 0, 1,\n",
       "       2])"
      ]
     },
     "execution_count": 41,
     "metadata": {},
     "output_type": "execute_result"
    }
   ],
   "source": [
    "iris_svm.predict(X_test)"
   ]
  },
  {
   "cell_type": "code",
   "execution_count": 40,
   "metadata": {},
   "outputs": [
    {
     "name": "stdout",
     "output_type": "stream",
     "text": [
      "train accuracy 0.952\n",
      "test accuracy 0.889\n"
     ]
    }
   ],
   "source": [
    "print('train set accuracy {:.3f}'.format(iris_svm.score(X_train, y_train)))\n",
    "print('test set accuracy {:.3f}'.format(iris_svm.score(X_test, y_test)))"
   ]
  },
  {
   "cell_type": "code",
   "execution_count": 83,
   "metadata": {},
   "outputs": [
    {
     "name": "stdout",
     "output_type": "stream",
     "text": [
      "train set accuracy 0.981\n",
      "test set accuracy 0.933\n"
     ]
    }
   ],
   "source": [
    "iris_svm100 = LinearSVC(C=100, max_iter=100000, dual=False).fit(X_train, y_train)\n",
    "print('train set accuracy {:.3f}'.format(iris_svm100.score(X_train, y_train)))\n",
    "print('test set accuracy {:.3f}'.format(iris_svm100.score(X_test, y_test)))"
   ]
  },
  {
   "cell_type": "code",
   "execution_count": 89,
   "metadata": {},
   "outputs": [
    {
     "data": {
      "image/png": "[encoded data removed]",
      "text/plain": [
       "<Figure size 432x288 with 1 Axes>"
      ]
     },
     "metadata": {
      "needs_background": "light"
     },
     "output_type": "display_data"
    }
   ],
   "source": [
    "line = np.linspace(-15,15)\n",
    "\n",
    "fig,ax = plt.subplots()\n",
    "scatter = ax.scatter(X[:,0], X[:,1], c=y, s=50)\n",
    "\n",
    "for coef,intercept,color in zip(iris_svm100.coef_, iris_svm100.intercept_, ['green','blue','red']):\n",
    "    ax.plot(line, -(line*coef[0]+intercept)/coef[1], c=color)\n",
    "\n",
    "ax.set_xlim(-2.5,10)\n",
    "ax.set_ylim(-1.5,4)\n",
    "\n",
    "ax.legend(*scatter.legend_elements(), loc='best', title='class')\n",
    "plt.show()"
   ]
  },
  {
   "cell_type": "markdown",
   "metadata": {},
   "source": [
    "### 커널 기법\n",
    "- 비선형 특성을 추가하여 선형 모델을 사용하는 경우, 특성이 많을 때 연산비용이 증가할 뿐 아니라 데이터가 부정확해질 위험이 있음\n",
    "- 수학적 기법을 이용하여 새로운 특성을 임의로 만들지 않고 고차원에서 학습할 수 있음 → 커널 기법\n",
    "\n",
    "#### 주요 parameter\n",
    "- gamma: 가우시안 커널의 반경을 결정 \\\n",
    "  감마 값이 크면 커널의 반경이 좁아짐 \\\n",
    "  → 훈련에 각각의 데이터 포인트를 더욱 반영함 → 복잡도 증가 \\\n",
    "  감마 값이 작으면 커널의 반경이 넓어짐 \\\n",
    "  → 훈련에 더 넓은 면적에 걸친 데이터 포인트를 반영 → 복잡도 감소\n",
    "- C: cost func."
   ]
  },
  {
   "cell_type": "code",
   "execution_count": 90,
   "metadata": {},
   "outputs": [],
   "source": [
    "from sklearn.svm import SVC"
   ]
  },
  {
   "cell_type": "code",
   "execution_count": 91,
   "metadata": {},
   "outputs": [],
   "source": [
    "# 1. load and split data\n",
    "\n",
    "cancer = datasets.load_breast_cancer()\n",
    "\n",
    "X=cancer.data\n",
    "y=cancer.target\n",
    "\n",
    "X_train, X_test, y_train, y_test = \\\n",
    "    train_test_split(X,y, test_size=0.2, random_state=0)"
   ]
  },
  {
   "cell_type": "code",
   "execution_count": 92,
   "metadata": {},
   "outputs": [],
   "source": [
    "# 2. modeling\n",
    "\n",
    "svc = SVC(gamma=1).fit(X_train, y_train)"
   ]
  },
  {
   "cell_type": "code",
   "execution_count": 93,
   "metadata": {},
   "outputs": [
    {
     "name": "stdout",
     "output_type": "stream",
     "text": [
      "train set accuracy 1.000\n",
      "test set accuracy 0.588\n"
     ]
    }
   ],
   "source": [
    "# 3. 결과 비교\n",
    "\n",
    "print('train set accuracy {:.3f}'.format(svc.score(X_train, y_train)))\n",
    "print('test set accuracy {:.3f}'.format(svc.score(X_test, y_test)))"
   ]
  },
  {
   "cell_type": "code",
   "execution_count": 98,
   "metadata": {
    "scrolled": true
   },
   "outputs": [
    {
     "name": "stdout",
     "output_type": "stream",
     "text": [
      "C=0.01, gamma=0.01\n",
      "train set accuracy 0.637\n",
      "test set accuracy 0.588\n",
      "\n",
      "C=0.01, gamma=0.1\n",
      "train set accuracy 0.637\n",
      "test set accuracy 0.588\n",
      "\n",
      "C=0.01, gamma=1\n",
      "train set accuracy 0.637\n",
      "test set accuracy 0.588\n",
      "\n",
      "C=0.01, gamma=10\n",
      "train set accuracy 0.637\n",
      "test set accuracy 0.588\n",
      "\n",
      "C=0.01, gamma=100\n",
      "train set accuracy 0.637\n",
      "test set accuracy 0.588\n",
      "\n",
      "C=0.1, gamma=0.01\n",
      "train set accuracy 0.637\n",
      "test set accuracy 0.588\n",
      "\n",
      "C=0.1, gamma=0.1\n",
      "train set accuracy 0.637\n",
      "test set accuracy 0.588\n",
      "\n",
      "C=0.1, gamma=1\n",
      "train set accuracy 0.637\n",
      "test set accuracy 0.588\n",
      "\n",
      "C=0.1, gamma=10\n",
      "train set accuracy 0.637\n",
      "test set accuracy 0.588\n",
      "\n",
      "C=0.1, gamma=100\n",
      "train set accuracy 0.637\n",
      "test set accuracy 0.588\n",
      "\n",
      "C=1, gamma=0.01\n",
      "train set accuracy 1.000\n",
      "test set accuracy 0.596\n",
      "\n",
      "C=1, gamma=0.1\n",
      "train set accuracy 1.000\n",
      "test set accuracy 0.588\n",
      "\n",
      "C=1, gamma=1\n",
      "train set accuracy 1.000\n",
      "test set accuracy 0.588\n",
      "\n",
      "C=1, gamma=10\n",
      "train set accuracy 1.000\n",
      "test set accuracy 0.588\n",
      "\n",
      "C=1, gamma=100\n",
      "train set accuracy 1.000\n",
      "test set accuracy 0.588\n",
      "\n",
      "C=10, gamma=0.01\n",
      "train set accuracy 1.000\n",
      "test set accuracy 0.588\n",
      "\n",
      "C=10, gamma=0.1\n",
      "train set accuracy 1.000\n",
      "test set accuracy 0.588\n",
      "\n",
      "C=10, gamma=1\n",
      "train set accuracy 1.000\n",
      "test set accuracy 0.588\n",
      "\n",
      "C=10, gamma=10\n",
      "train set accuracy 1.000\n",
      "test set accuracy 0.588\n",
      "\n",
      "C=10, gamma=100\n",
      "train set accuracy 1.000\n",
      "test set accuracy 0.588\n",
      "\n",
      "C=100, gamma=0.01\n",
      "train set accuracy 1.000\n",
      "test set accuracy 0.588\n",
      "\n",
      "C=100, gamma=0.1\n",
      "train set accuracy 1.000\n",
      "test set accuracy 0.588\n",
      "\n",
      "C=100, gamma=1\n",
      "train set accuracy 1.000\n",
      "test set accuracy 0.588\n",
      "\n",
      "C=100, gamma=10\n",
      "train set accuracy 1.000\n",
      "test set accuracy 0.588\n",
      "\n",
      "C=100, gamma=100\n",
      "train set accuracy 1.000\n",
      "test set accuracy 0.588\n",
      "\n"
     ]
    }
   ],
   "source": [
    "for i_cost in [0.01,0.1,1,10,100]:\n",
    "    for i_gamma in [0.01,0.1,1,10,100]:\n",
    "        svc = SVC(C=i_cost ,gamma=i_gamma).fit(X_train, y_train)\n",
    "        print('C={}, gamma={}'.format(i_cost,i_gamma))\n",
    "        print('train set accuracy {:.3f}'.format(svc.score(X_train, y_train)))\n",
    "        print('test set accuracy {:.3f}'.format(svc.score(X_test, y_test)),end=\"\\n\\n\")"
   ]
  },
  {
   "cell_type": "code",
   "execution_count": 96,
   "metadata": {},
   "outputs": [
    {
     "data": {
      "image/png": "[encoded data removed]",
      "text/plain": [
       "<Figure size 432x288 with 1 Axes>"
      ]
     },
     "metadata": {
      "needs_background": "light"
     },
     "output_type": "display_data"
    }
   ],
   "source": [
    "# 1) 변수들의 값의 대략적인 크기 확인\n",
    "plt.boxplot(X_train, manage_ticks=False)\n",
    "plt.yscale('symlog')\n",
    "plt.xlabel('features')\n",
    "plt.ylabel('value')\n",
    "plt.show()"
   ]
  },
  {
   "cell_type": "code",
   "execution_count": null,
   "metadata": {},
   "outputs": [],
   "source": []
  }
 ],
 "metadata": {
  "kernelspec": {
   "display_name": "Python 3",
   "language": "python",
   "name": "python3"
  },
  "language_info": {
   "codemirror_mode": {
    "name": "ipython",
    "version": 3
   },
   "file_extension": ".py",
   "mimetype": "text/x-python",
   "name": "python",
   "nbconvert_exporter": "python",
   "pygments_lexer": "ipython3",
   "version": "3.8.5"
  }
 },
 "nbformat": 4,
 "nbformat_minor": 4
}
