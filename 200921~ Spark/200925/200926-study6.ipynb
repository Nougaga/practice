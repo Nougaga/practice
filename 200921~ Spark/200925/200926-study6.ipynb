{
 "cells": [
  {
   "cell_type": "code",
   "execution_count": 1,
   "metadata": {},
   "outputs": [],
   "source": [
    "from pyspark.sql import SparkSession\n",
    "spark = SparkSession.builder.appName('movie').master('local').getOrCreate()"
   ]
  },
  {
   "cell_type": "code",
   "execution_count": 2,
   "metadata": {},
   "outputs": [],
   "source": [
    "from pyspark.ml.evaluation import RegressionEvaluator\n",
    "from pyspark.ml.recommendation import ALS"
   ]
  },
  {
   "cell_type": "code",
   "execution_count": 3,
   "metadata": {},
   "outputs": [],
   "source": [
    "data = spark.read.csv('Meal_Info.csv', inferSchema=True, header=True)"
   ]
  },
  {
   "cell_type": "code",
   "execution_count": 4,
   "metadata": {},
   "outputs": [
    {
     "name": "stdout",
     "output_type": "stream",
     "text": [
      "root\n",
      " |-- movieId: integer (nullable = true)\n",
      " |-- rating: double (nullable = true)\n",
      " |-- userId: integer (nullable = true)\n",
      " |-- mealskew: double (nullable = true)\n",
      " |-- meal_name: string (nullable = true)\n",
      "\n"
     ]
    }
   ],
   "source": [
    "data.printSchema()"
   ]
  },
  {
   "cell_type": "code",
   "execution_count": 5,
   "metadata": {},
   "outputs": [
    {
     "name": "stdout",
     "output_type": "stream",
     "text": [
      "+-------+------+------+--------+--------------------+\n",
      "|movieId|rating|userId|mealskew|           meal_name|\n",
      "+-------+------+------+--------+--------------------+\n",
      "|      2|   3.0|     0|     2.0|       Chicken Curry|\n",
      "|      3|   1.0|     0|     3.0|Spicy Chicken Nug...|\n",
      "|      5|   2.0|     0|     5.0|           Hamburger|\n",
      "|      9|   4.0|     0|     9.0|       Taco Surprise|\n",
      "|     11|   1.0|     0|    11.0|            Meatloaf|\n",
      "|     12|   2.0|     0|    12.0|        Ceaser Salad|\n",
      "|     15|   1.0|     0|    15.0|            BBQ Ribs|\n",
      "|     17|   1.0|     0|    17.0|         Sushi Plate|\n",
      "|     19|   1.0|     0|    19.0|Cheesesteak Sandw...|\n",
      "|     21|   1.0|     0|    21.0|             Lasagna|\n",
      "|     23|   1.0|     0|    23.0|      Orange Chicken|\n",
      "|     26|   3.0|     0|    26.0|    Spicy Beef Plate|\n",
      "|     27|   1.0|     0|    27.0|Salmon with Mashe...|\n",
      "|     28|   1.0|     0|    28.0| Penne Tomatoe Pasta|\n",
      "|     29|   1.0|     0|    29.0|        Pork Sliders|\n",
      "|     30|   1.0|     0|    30.0| Vietnamese Sandwich|\n",
      "|     31|   1.0|     0|    31.0|        Chicken Wrap|\n",
      "|     34|   1.0|     0|    null|       Cowboy Burger|\n",
      "|     37|   1.0|     0|    null|       Cowboy Burger|\n",
      "|     41|   2.0|     0|    null|       Cowboy Burger|\n",
      "+-------+------+------+--------+--------------------+\n",
      "only showing top 20 rows\n",
      "\n"
     ]
    }
   ],
   "source": [
    "data.show()"
   ]
  },
  {
   "cell_type": "code",
   "execution_count": 9,
   "metadata": {},
   "outputs": [],
   "source": [
    "data = data.na.drop()"
   ]
  },
  {
   "cell_type": "code",
   "execution_count": 10,
   "metadata": {},
   "outputs": [],
   "source": [
    "(training, testing) = data.randomSplit([0.8, 0.2])"
   ]
  },
  {
   "cell_type": "code",
   "execution_count": 11,
   "metadata": {},
   "outputs": [],
   "source": [
    "als = ALS(maxIter=5, regParam=0.01, userCol='userId', itemCol='mealskew', ratingCol='rating')\n",
    "model = als.fit(training)"
   ]
  },
  {
   "cell_type": "code",
   "execution_count": 14,
   "metadata": {},
   "outputs": [
    {
     "name": "stdout",
     "output_type": "stream",
     "text": [
      "+-------+------+------+--------+--------------------+----------+\n",
      "|movieId|rating|userId|mealskew|           meal_name|prediction|\n",
      "+-------+------+------+--------+--------------------+----------+\n",
      "|      2|   1.0|    26|     2.0|       Chicken Curry|  5.265823|\n",
      "|     23|   1.0|    19|    23.0|      Orange Chicken| 4.7955775|\n",
      "|     12|   3.0|     2|    12.0|        Ceaser Salad| 4.0295153|\n",
      "|      0|   1.0|     6|     0.0|        Cheese Pizza| 3.8290668|\n",
      "|     22|   4.0|    17|    22.0|   Pulled Pork Plate| 3.6180391|\n",
      "|     24|   5.0|    26|    24.0|               Chili| 3.4270978|\n",
      "|      7|   1.0|    28|     7.0|              Nachos| 3.0584855|\n",
      "|     20|   1.0|    26|    20.0|     Southwest Salad| 3.0316865|\n",
      "|     28|   1.0|     0|    28.0| Penne Tomatoe Pasta| 2.9707906|\n",
      "|     18|   1.0|     8|    18.0|     Pepperoni Pizza| 2.9234595|\n",
      "|      2|   3.0|     9|     2.0|       Chicken Curry| 2.8596983|\n",
      "|     18|   4.0|     3|    18.0|     Pepperoni Pizza| 2.8463178|\n",
      "|     24|   1.0|     9|    24.0|               Chili| 2.7343895|\n",
      "|     18|   3.0|    26|    18.0|     Pepperoni Pizza| 2.5383759|\n",
      "|     18|   1.0|     6|    18.0|     Pepperoni Pizza| 2.4343374|\n",
      "|      6|   2.0|    22|     6.0|  Spicy Pork Sliders| 2.3142147|\n",
      "|     21|   1.0|    12|    21.0|             Lasagna| 2.2991507|\n",
      "|     28|   2.0|    15|    28.0| Penne Tomatoe Pasta| 2.2864585|\n",
      "|     13|   1.0|     1|    13.0|Mandarin Chicken ...| 2.2813656|\n",
      "|     13|   3.0|    26|    13.0|Mandarin Chicken ...| 2.2806273|\n",
      "+-------+------+------+--------+--------------------+----------+\n",
      "only showing top 20 rows\n",
      "\n"
     ]
    }
   ],
   "source": [
    "predictions = model.transform(testing)\n",
    "predictions.orderBy('prediction', ascending=False).show()"
   ]
  },
  {
   "cell_type": "code",
   "execution_count": 17,
   "metadata": {},
   "outputs": [
    {
     "name": "stdout",
     "output_type": "stream",
     "text": [
      "Root Mean Square Error = 1.5224437978111658\n"
     ]
    }
   ],
   "source": [
    "evaluator = RegressionEvaluator(metricName='rmse', labelCol='rating', predictionCol='prediction')\n",
    "rmse = evaluator.evaluate(predictions)\n",
    "print('Root Mean Square Error = '+str(rmse))"
   ]
  },
  {
   "cell_type": "code",
   "execution_count": null,
   "metadata": {},
   "outputs": [],
   "source": []
  },
  {
   "cell_type": "code",
   "execution_count": null,
   "metadata": {},
   "outputs": [],
   "source": []
  },
  {
   "cell_type": "code",
   "execution_count": null,
   "metadata": {},
   "outputs": [],
   "source": []
  }
 ],
 "metadata": {
  "kernelspec": {
   "display_name": "Python 3",
   "language": "python",
   "name": "python3"
  },
  "language_info": {
   "codemirror_mode": {
    "name": "ipython",
    "version": 3
   },
   "file_extension": ".py",
   "mimetype": "text/x-python",
   "name": "python",
   "nbconvert_exporter": "python",
   "pygments_lexer": "ipython3",
   "version": "3.7.4"
  }
 },
 "nbformat": 4,
 "nbformat_minor": 4
}
