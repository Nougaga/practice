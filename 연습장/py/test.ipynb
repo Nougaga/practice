{
 "metadata": {
  "language_info": {
   "codemirror_mode": {
    "name": "ipython",
    "version": 3
   },
   "file_extension": ".py",
   "mimetype": "text/x-python",
   "name": "python",
   "nbconvert_exporter": "python",
   "pygments_lexer": "ipython3",
   "version": "3.7.4-final"
  },
  "orig_nbformat": 2,
  "kernelspec": {
   "name": "Python 3.7.4 64-bit ('base': conda)",
   "display_name": "Python 3.7.4 64-bit ('base': conda)",
   "metadata": {
    "interpreter": {
     "hash": "b3ba2566441a7c06988d0923437866b63cedc61552a5af99d1f4fb67d367b25f"
    }
   }
  }
 },
 "nbformat": 4,
 "nbformat_minor": 2,
 "cells": [
  {
   "cell_type": "code",
   "execution_count": null,
   "metadata": {},
   "outputs": [],
   "source": [
    "class MeanHeap():\n",
    "    def __init__(self, arr):\n",
    "        self.heapList = [-1]\n",
    "        for i in range(len(arr)):\n",
    "            self.insert(arr[i])\n",
    "    \n",
    "    def insert(self, el):\n",
    "        loc = len(self.heapList)\n",
    "        self.heapList.append(el)\n",
    "        self.heapify_upward(loc)\n",
    "    \n",
    "    def pop_root(self):\n",
    "        length = len(self.heapList)\n",
    "        if length <= 1:\n",
    "            return -1\n",
    "        elif length == 2:\n",
    "            temp = self.heapList.pop()\n",
    "        else:\n",
    "            temp = self.heapList[1]\n",
    "            self.heapList[1] = self.heapList.pop()       \n",
    "            self.heapify_downward(1)\n",
    "        return temp\n",
    "        \n",
    "    def heapify_upward(self, loc_me):\n",
    "        loc_parent = loc_me//2\n",
    "        if loc_parent < 1:\n",
    "            return -1\n",
    "        parent = self.heapList[loc_parent]\n",
    "        me = self.heapList[loc_me]\n",
    "        if parent > me:\n",
    "            self.heapList[loc_parent] = me\n",
    "            self.heapList[loc_me] = parent\n",
    "            self.heapify_upward(parent)\n",
    "    \n",
    "    def heapify_downward(self, loc_me):\n",
    "        child_left = loc_me*2\n",
    "        child_right = child_left + 1\n",
    "        length = len(self.heapList)\n",
    "        if child_left >= length:\n",
    "            return -1\n",
    "        elif child_right >= length:\n",
    "            loc_child = child_left\n",
    "        else:\n",
    "            if self.heapList[child_left] < self.heapList[child_right]:\n",
    "                loc_child = child_left\n",
    "            else:\n",
    "                loc_child = child_right\n",
    "                \n",
    "        if self.heapList[loc_child] < self.heapList[loc_me]:\n",
    "            temp = self.heapList[loc_me]\n",
    "            self.heapList[loc_me] = self.heapList[loc_child]\n",
    "            self.heapList[loc_child] = temp\n",
    "            self.heapify_downward(loc_child)"
   ]
  },
  {
   "cell_type": "code",
   "execution_count": null,
   "metadata": {},
   "outputs": [],
   "source": []
  },
  {
   "cell_type": "code",
   "execution_count": null,
   "metadata": {},
   "outputs": [],
   "source": [
    "\n",
    "answer = 0\n",
    "\n",
    "minHotHeap = MeanHeap(scoville)\n",
    "\n",
    "while True:\n",
    "    length = len(minHotHeap.heapList)\n",
    "\n",
    "    # K 이상?\n",
    "    flag = 1\n",
    "    for i in range(1,length):\n",
    "        if minHotHeap.heapList[i] < K:\n",
    "            flag = 0\n",
    "            break\n",
    "    if flag:\n",
    "        break\n",
    "        \n",
    "    # 섞기 불가능?\n",
    "    if length <= 2:\n",
    "        return -1\n",
    "        \n",
    "    # 섞자\n",
    "    answer += 1\n",
    "    temp = minHotHeap.pop_root()\n",
    "    minHotHeap.heapList[1] = temp + minHotHeap.heapList[1]*2\n",
    "\n"
   ]
  },
  {
   "cell_type": "code",
   "execution_count": null,
   "metadata": {},
   "outputs": [],
   "source": []
  },
  {
   "cell_type": "code",
   "execution_count": null,
   "metadata": {},
   "outputs": [],
   "source": []
  },
  {
   "cell_type": "code",
   "execution_count": null,
   "metadata": {},
   "outputs": [],
   "source": []
  }
 ]
}